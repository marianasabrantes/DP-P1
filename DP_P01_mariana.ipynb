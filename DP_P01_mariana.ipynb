{
 "cells": [
  {
   "cell_type": "markdown",
   "metadata": {},
   "source": [
    "___\n",
    "# Ciência dos Dados - PROJETO 1"
   ]
  },
  {
   "cell_type": "markdown",
   "metadata": {},
   "source": [
    "## Gabriel Miras e Mariana Abrantes\n",
    "___"
   ]
  },
  {
   "cell_type": "markdown",
   "metadata": {},
   "source": [
    "## Aposentadoria brasileira"
   ]
  },
  {
   "cell_type": "markdown",
   "metadata": {},
   "source": [
    "___\n",
    "## Introdução\n",
    "\n",
    "**Neste primeiro projeto tinhamos como objetivo descobrir o perfil do aposentado brasileiro.E para isso, utilizamos os dados do PNAD do ano de 2015 e depois comparamos com uma variável do PNAD do ano de 2011. O projeto foi feito em partes. A primeira foi a seleção e limpeza dos dados que nos pareciam mais condizente com o tema e a segunda foi a análise de cada uma, descobrimos suas distribuições por cada região do país. Antes da conclusão escolhemos uma variável do ano de 2011 para poder comparar com uma variável de 2015, para assim verificar as diferenças durante esses anos.Por fim chegamos ao nosso perfil.**"
   ]
  },
  {
   "cell_type": "markdown",
   "metadata": {},
   "source": [
    "___\n",
    "## Importando os dados"
   ]
  },
  {
   "cell_type": "code",
   "execution_count": 188,
   "metadata": {},
   "outputs": [],
   "source": [
    "%matplotlib inline\n",
    "import pandas as pd\n",
    "import matplotlib.pyplot as plt\n",
    "import numpy as np\n",
    "import os"
   ]
  },
  {
   "cell_type": "code",
   "execution_count": 189,
   "metadata": {},
   "outputs": [
    {
     "name": "stdout",
     "output_type": "stream",
     "text": [
      "Esperamos trabalhar no diretório\n",
      "C:\\Users\\Gabriel Miras\\Documents\\INSPER\\3 SEMESTRE (DP)\\C DADOS DP\\Projetos\\Projeto 1\n"
     ]
    }
   ],
   "source": [
    "print('Esperamos trabalhar no diretório')\n",
    "print(os.getcwd())"
   ]
  },
  {
   "cell_type": "code",
   "execution_count": 190,
   "metadata": {},
   "outputs": [],
   "source": [
    "#Se usar o arquivo descompactado\n",
    "dados = pd.read_csv('PES2015.csv',sep=',')\n",
    "#Se usar o arquivo compactado como está no dropbox púbico\n",
    "#pd.read_csv('PES2015csv.zip', compression='zip', header=0, sep=',', quotechar='\"')"
   ]
  },
  {
   "cell_type": "markdown",
   "metadata": {},
   "source": [
    "## Renomeando as colunas"
   ]
  },
  {
   "cell_type": "code",
   "execution_count": 191,
   "metadata": {
    "scrolled": true
   },
   "outputs": [
    {
     "data": {
      "text/html": [
       "<div>\n",
       "<style scoped>\n",
       "    .dataframe tbody tr th:only-of-type {\n",
       "        vertical-align: middle;\n",
       "    }\n",
       "\n",
       "    .dataframe tbody tr th {\n",
       "        vertical-align: top;\n",
       "    }\n",
       "\n",
       "    .dataframe thead th {\n",
       "        text-align: right;\n",
       "    }\n",
       "</style>\n",
       "<table border=\"1\" class=\"dataframe\">\n",
       "  <thead>\n",
       "    <tr style=\"text-align: right;\">\n",
       "      <th></th>\n",
       "      <th>ESTADO</th>\n",
       "      <th>SEXO</th>\n",
       "      <th>IDADE</th>\n",
       "      <th>CONDICAO</th>\n",
       "      <th>ALFABETIZACAO</th>\n",
       "      <th>CARTEIRA</th>\n",
       "      <th>PAGAMENTO</th>\n",
       "      <th>ESTABELECIMENTO</th>\n",
       "      <th>T_PREVIDENCIA</th>\n",
       "      <th>TRABALHO</th>\n",
       "      <th>SALARIO</th>\n",
       "      <th>ESTUDO</th>\n",
       "    </tr>\n",
       "  </thead>\n",
       "  <tbody>\n",
       "    <tr>\n",
       "      <th>0</th>\n",
       "      <td>11</td>\n",
       "      <td>2</td>\n",
       "      <td>23</td>\n",
       "      <td>1</td>\n",
       "      <td>1</td>\n",
       "      <td>4.0</td>\n",
       "      <td>1.0</td>\n",
       "      <td>1.0</td>\n",
       "      <td>NaN</td>\n",
       "      <td>NaN</td>\n",
       "      <td>4.0</td>\n",
       "      <td>5</td>\n",
       "    </tr>\n",
       "    <tr>\n",
       "      <th>1</th>\n",
       "      <td>11</td>\n",
       "      <td>4</td>\n",
       "      <td>23</td>\n",
       "      <td>1</td>\n",
       "      <td>1</td>\n",
       "      <td>2.0</td>\n",
       "      <td>1.0</td>\n",
       "      <td>1.0</td>\n",
       "      <td>2.0</td>\n",
       "      <td>NaN</td>\n",
       "      <td>4.0</td>\n",
       "      <td>5</td>\n",
       "    </tr>\n",
       "    <tr>\n",
       "      <th>2</th>\n",
       "      <td>11</td>\n",
       "      <td>4</td>\n",
       "      <td>35</td>\n",
       "      <td>1</td>\n",
       "      <td>1</td>\n",
       "      <td>4.0</td>\n",
       "      <td>1.0</td>\n",
       "      <td>1.0</td>\n",
       "      <td>2.0</td>\n",
       "      <td>NaN</td>\n",
       "      <td>4.0</td>\n",
       "      <td>6</td>\n",
       "    </tr>\n",
       "    <tr>\n",
       "      <th>3</th>\n",
       "      <td>11</td>\n",
       "      <td>2</td>\n",
       "      <td>34</td>\n",
       "      <td>2</td>\n",
       "      <td>1</td>\n",
       "      <td>NaN</td>\n",
       "      <td>1.0</td>\n",
       "      <td>3.0</td>\n",
       "      <td>NaN</td>\n",
       "      <td>NaN</td>\n",
       "      <td>4.0</td>\n",
       "      <td>7</td>\n",
       "    </tr>\n",
       "    <tr>\n",
       "      <th>4</th>\n",
       "      <td>11</td>\n",
       "      <td>4</td>\n",
       "      <td>11</td>\n",
       "      <td>3</td>\n",
       "      <td>1</td>\n",
       "      <td>NaN</td>\n",
       "      <td>NaN</td>\n",
       "      <td>NaN</td>\n",
       "      <td>NaN</td>\n",
       "      <td>NaN</td>\n",
       "      <td>4.0</td>\n",
       "      <td>2</td>\n",
       "    </tr>\n",
       "  </tbody>\n",
       "</table>\n",
       "</div>"
      ],
      "text/plain": [
       "   ESTADO  SEXO  IDADE  CONDICAO  ALFABETIZACAO  CARTEIRA  PAGAMENTO  \\\n",
       "0      11     2     23         1              1       4.0        1.0   \n",
       "1      11     4     23         1              1       2.0        1.0   \n",
       "2      11     4     35         1              1       4.0        1.0   \n",
       "3      11     2     34         2              1       NaN        1.0   \n",
       "4      11     4     11         3              1       NaN        NaN   \n",
       "\n",
       "   ESTABELECIMENTO  T_PREVIDENCIA  TRABALHO  SALARIO  ESTUDO  \n",
       "0              1.0            NaN       NaN      4.0       5  \n",
       "1              1.0            2.0       NaN      4.0       5  \n",
       "2              1.0            2.0       NaN      4.0       6  \n",
       "3              3.0            NaN       NaN      4.0       7  \n",
       "4              NaN            NaN       NaN      4.0       2  "
      ]
     },
     "execution_count": 191,
     "metadata": {},
     "output_type": "execute_result"
    }
   ],
   "source": [
    "_dados = dados[['UF', 'V0302','V8005', 'V0402', 'V0601', 'V9042', 'V9531', 'V9054',\n",
    "                'V9060','V9077', 'V4743', 'V4745']]\n",
    "\n",
    "A = _dados.rename(index = str, columns = {'UF': \"ESTADO\"})\n",
    "B = A.rename(index = str, columns = {'V0302': \"SEXO\"})\n",
    "C = B.rename(index = str, columns = {'V8005': \"IDADE\"})\n",
    "D = C.rename(index = str, columns = {'V0402': \"CONDICAO\"})\n",
    "E = D.rename(index = str, columns = {'V0601': \"ALFABETIZACAO\"})\n",
    "F = E.rename(index = str, columns = {'V9042': \"CARTEIRA\"})\n",
    "G = F.rename(index = str, columns = {'V9531': \"PAGAMENTO\"})\n",
    "H = G.rename(index = str, columns = {'V9054': \"ESTABELECIMENTO\"})\n",
    "I = H.rename(index = str, columns = {'V9060': \"T_PREVIDENCIA\"})\n",
    "J = I.rename(index = str, columns = {'V9077': \"TRABALHO\"})\n",
    "M = J.rename(index = str, columns = {'V4743': \"SALARIO\"})\n",
    "N = M.rename(index = str, columns = {'V4745': \"ESTUDO\"})\n",
    "\n",
    "N.head()"
   ]
  },
  {
   "cell_type": "markdown",
   "metadata": {},
   "source": [
    "## Alterando os dados de números para palavras"
   ]
  },
  {
   "cell_type": "code",
   "execution_count": 192,
   "metadata": {
    "scrolled": true
   },
   "outputs": [
    {
     "name": "stderr",
     "output_type": "stream",
     "text": [
      "C:\\Users\\Gabriel Miras\\Documents\\INSPER\\Programas Insper\\AnacondaDownload\\lib\\site-packages\\pandas\\core\\generic.py:3643: SettingWithCopyWarning: \n",
      "A value is trying to be set on a copy of a slice from a DataFrame.\n",
      "Try using .loc[row_indexer,col_indexer] = value instead\n",
      "\n",
      "See the caveats in the documentation: http://pandas.pydata.org/pandas-docs/stable/indexing.html#indexing-view-versus-copy\n",
      "  self[name] = value\n",
      "C:\\Users\\Gabriel Miras\\Documents\\INSPER\\Programas Insper\\AnacondaDownload\\lib\\site-packages\\pandas\\core\\indexing.py:357: SettingWithCopyWarning: \n",
      "A value is trying to be set on a copy of a slice from a DataFrame.\n",
      "Try using .loc[row_indexer,col_indexer] = value instead\n",
      "\n",
      "See the caveats in the documentation: http://pandas.pydata.org/pandas-docs/stable/indexing.html#indexing-view-versus-copy\n",
      "  self.obj[key] = _infer_fill_value(value)\n",
      "C:\\Users\\Gabriel Miras\\Documents\\INSPER\\Programas Insper\\AnacondaDownload\\lib\\site-packages\\pandas\\core\\indexing.py:537: SettingWithCopyWarning: \n",
      "A value is trying to be set on a copy of a slice from a DataFrame.\n",
      "Try using .loc[row_indexer,col_indexer] = value instead\n",
      "\n",
      "See the caveats in the documentation: http://pandas.pydata.org/pandas-docs/stable/indexing.html#indexing-view-versus-copy\n",
      "  self.obj[item] = s\n"
     ]
    }
   ],
   "source": [
    "P = N[N['IDADE']>= 70]\n",
    "\n",
    "P.SEXO = P.SEXO.astype('category')\n",
    "P.SEXO.cat.categories = (['Masculino', 'Feminino'])\n",
    "\n",
    "P.CONDICAO = P.CONDICAO.astype('category')\n",
    "P.CONDICAO.cat.categories = (['Pessoa de referencia', 'Conjuge', 'Filho', 'Outro', 'Agregado', 'Pensionista', 'Empregado domestico', 'Parente do empregado domestico'])\n",
    "\n",
    "P.ALFABETIZACAO = P.ALFABETIZACAO.astype('category')\n",
    "P.ALFABETIZACAO.cat.categories = (['Sim', 'Nao'])\n",
    "\n",
    "P.CARTEIRA = P.CARTEIRA.astype('category')\n",
    "P.CARTEIRA.cat.categories = (['Sim', 'Nao'])\n",
    "\n",
    "P.PAGAMENTO = P.PAGAMENTO.astype('category')\n",
    "P.PAGAMENTO.cat.categories = (['Existia rendimento em dinheiro'])\n",
    "\n",
    "P.ESTABELECIMENTO = P.ESTABELECIMENTO.astype('category')\n",
    "P.ESTABELECIMENTO.cat.categories = (['Lojas, oficina, etc', 'fazenda, sitio etc', 'domicilio que trabalha',\n",
    "                                     'domicilio de patrao etc', 'local designado pelo cliente etc', 'em veiculo motor', 'em via publica', 'outros' ])\n",
    "\n",
    "P.T_PREVIDENCIA = P.T_PREVIDENCIA.astype('category')\n",
    "P.T_PREVIDENCIA.cat.categories = (['Federal', 'Municipal', 'Estadual'])\n",
    "\n",
    "P.TRABALHO = P.TRABALHO.astype('category')\n",
    "P.TRABALHO.cat.categories = (['Empregado', 'Trabalhador domestico', 'Conta Propria', 'Empregador', 'Trabalhador nao remunerado na unidade domiciliar',\n",
    "                             'outro trabalho nao remunerado', 'trabalhador no proprio negocio'])\n",
    "\n",
    "P.SALARIO = P.SALARIO.astype('category')\n",
    "P.SALARIO.cat.categories = (['Sem rendimento', 'Ate 1/4 de salario', 'mais de 1/4 ate 1/2 de salario', 'mais de 1/2 ate 1 de salario',\n",
    "                               'mais de 1 ate 2 de salario', 'mais de 2 ate 3 de salario', 'mais de 3 ate 5 de salario', 'mais de 5 de salario',\n",
    "                                'sem declaracao'])\n",
    "\n",
    "P.ESTUDO = P.ESTUDO.astype('category')\n",
    "P.ESTUDO.cat.categories = (['Sem instrucao', 'Fund. Incomp ou equivalente', 'Fund. compl ou equivalente', 'Med Incomp ou equivalente',\n",
    "                            'Med compl ou equilavente', 'Sup Incompl ou equivalente', 'Superior completo', 'nao determinado'])\n",
    "\n",
    "P.loc[(P.ESTADO>10)&(P.ESTADO<20), 'REGIAO'] = \"Norte\"\n",
    "P.loc[(P.ESTADO>20)&(P.ESTADO<30), 'REGIAO'] = \"Nordeste\"\n",
    "P.loc[(P.ESTADO>30)&(P.ESTADO<40), 'REGIAO'] = \"Sudeste\"\n",
    "P.loc[(P.ESTADO>40)&(P.ESTADO<=50), 'REGIAO'] = \"Sul\"\n",
    "P.loc[(P.ESTADO>=50)&(P.ESTADO<60), 'REGIAO'] = \"Centro-Oeste\"\n",
    "\n",
    "#P.head()"
   ]
  },
  {
   "cell_type": "markdown",
   "metadata": {},
   "source": [
    "___\n",
    "## Análise"
   ]
  },
  {
   "cell_type": "markdown",
   "metadata": {},
   "source": [
    "**Depois de limpar e preparar a tabela, começamos o estudo das variaveis selecionadas. No primeiro momento iremos verificar como cada variável se distribui e depois como elas estão distribuidas em cada região do país.**"
   ]
  },
  {
   "cell_type": "markdown",
   "metadata": {},
   "source": [
    "#### Distribuição da variável Salário"
   ]
  },
  {
   "cell_type": "code",
   "execution_count": 193,
   "metadata": {},
   "outputs": [
    {
     "data": {
      "text/plain": [
       "mais de 1/2 ate 1 de salario      8353\n",
       "mais de 1 ate 2 de salario        6485\n",
       "mais de 1/4 ate 1/2 de salario    1814\n",
       "mais de 2 ate 3 de salario        1762\n",
       "mais de 3 ate 5 de salario        1295\n",
       "mais de 5 de salario              1102\n",
       "sem declaracao                     522\n",
       "Ate 1/4 de salario                 178\n",
       "Sem rendimento                      21\n",
       "Name: SALARIO, dtype: int64"
      ]
     },
     "execution_count": 193,
     "metadata": {},
     "output_type": "execute_result"
    }
   ],
   "source": [
    "P.SALARIO.value_counts()"
   ]
  },
  {
   "cell_type": "markdown",
   "metadata": {},
   "source": [
    "#### Salário X Região"
   ]
  },
  {
   "cell_type": "code",
   "execution_count": 194,
   "metadata": {},
   "outputs": [
    {
     "data": {
      "text/html": [
       "<div>\n",
       "<style scoped>\n",
       "    .dataframe tbody tr th:only-of-type {\n",
       "        vertical-align: middle;\n",
       "    }\n",
       "\n",
       "    .dataframe tbody tr th {\n",
       "        vertical-align: top;\n",
       "    }\n",
       "\n",
       "    .dataframe thead th {\n",
       "        text-align: right;\n",
       "    }\n",
       "</style>\n",
       "<table border=\"1\" class=\"dataframe\">\n",
       "  <thead>\n",
       "    <tr style=\"text-align: right;\">\n",
       "      <th>REGIAO</th>\n",
       "      <th>Centro-Oeste</th>\n",
       "      <th>Nordeste</th>\n",
       "      <th>Norte</th>\n",
       "      <th>Sudeste</th>\n",
       "      <th>Sul</th>\n",
       "    </tr>\n",
       "    <tr>\n",
       "      <th>SALARIO</th>\n",
       "      <th></th>\n",
       "      <th></th>\n",
       "      <th></th>\n",
       "      <th></th>\n",
       "      <th></th>\n",
       "    </tr>\n",
       "  </thead>\n",
       "  <tbody>\n",
       "    <tr>\n",
       "      <th>Sem rendimento</th>\n",
       "      <td>14.285714</td>\n",
       "      <td>23.809524</td>\n",
       "      <td>0.000000</td>\n",
       "      <td>52.380952</td>\n",
       "      <td>9.523810</td>\n",
       "    </tr>\n",
       "    <tr>\n",
       "      <th>Ate 1/4 de salario</th>\n",
       "      <td>2.808989</td>\n",
       "      <td>48.876404</td>\n",
       "      <td>22.471910</td>\n",
       "      <td>21.910112</td>\n",
       "      <td>3.932584</td>\n",
       "    </tr>\n",
       "    <tr>\n",
       "      <th>mais de 1/4 ate 1/2 de salario</th>\n",
       "      <td>6.174201</td>\n",
       "      <td>42.723264</td>\n",
       "      <td>18.357222</td>\n",
       "      <td>24.696803</td>\n",
       "      <td>8.048512</td>\n",
       "    </tr>\n",
       "    <tr>\n",
       "      <th>mais de 1/2 ate 1 de salario</th>\n",
       "      <td>8.176703</td>\n",
       "      <td>37.040584</td>\n",
       "      <td>13.348498</td>\n",
       "      <td>27.714594</td>\n",
       "      <td>13.719622</td>\n",
       "    </tr>\n",
       "    <tr>\n",
       "      <th>mais de 1 ate 2 de salario</th>\n",
       "      <td>9.221280</td>\n",
       "      <td>22.636854</td>\n",
       "      <td>9.468003</td>\n",
       "      <td>37.656130</td>\n",
       "      <td>21.017733</td>\n",
       "    </tr>\n",
       "    <tr>\n",
       "      <th>mais de 2 ate 3 de salario</th>\n",
       "      <td>9.137344</td>\n",
       "      <td>14.982974</td>\n",
       "      <td>7.491487</td>\n",
       "      <td>44.665153</td>\n",
       "      <td>23.723042</td>\n",
       "    </tr>\n",
       "    <tr>\n",
       "      <th>mais de 3 ate 5 de salario</th>\n",
       "      <td>10.193050</td>\n",
       "      <td>17.606178</td>\n",
       "      <td>6.949807</td>\n",
       "      <td>41.930502</td>\n",
       "      <td>23.320463</td>\n",
       "    </tr>\n",
       "    <tr>\n",
       "      <th>mais de 5 de salario</th>\n",
       "      <td>13.248639</td>\n",
       "      <td>18.058076</td>\n",
       "      <td>3.992740</td>\n",
       "      <td>43.647913</td>\n",
       "      <td>21.052632</td>\n",
       "    </tr>\n",
       "    <tr>\n",
       "      <th>sem declaracao</th>\n",
       "      <td>8.045977</td>\n",
       "      <td>19.731801</td>\n",
       "      <td>7.854406</td>\n",
       "      <td>46.934866</td>\n",
       "      <td>17.432950</td>\n",
       "    </tr>\n",
       "  </tbody>\n",
       "</table>\n",
       "</div>"
      ],
      "text/plain": [
       "REGIAO                          Centro-Oeste   Nordeste      Norte    Sudeste  \\\n",
       "SALARIO                                                                         \n",
       "Sem rendimento                     14.285714  23.809524   0.000000  52.380952   \n",
       "Ate 1/4 de salario                  2.808989  48.876404  22.471910  21.910112   \n",
       "mais de 1/4 ate 1/2 de salario      6.174201  42.723264  18.357222  24.696803   \n",
       "mais de 1/2 ate 1 de salario        8.176703  37.040584  13.348498  27.714594   \n",
       "mais de 1 ate 2 de salario          9.221280  22.636854   9.468003  37.656130   \n",
       "mais de 2 ate 3 de salario          9.137344  14.982974   7.491487  44.665153   \n",
       "mais de 3 ate 5 de salario         10.193050  17.606178   6.949807  41.930502   \n",
       "mais de 5 de salario               13.248639  18.058076   3.992740  43.647913   \n",
       "sem declaracao                      8.045977  19.731801   7.854406  46.934866   \n",
       "\n",
       "REGIAO                                Sul  \n",
       "SALARIO                                    \n",
       "Sem rendimento                   9.523810  \n",
       "Ate 1/4 de salario               3.932584  \n",
       "mais de 1/4 ate 1/2 de salario   8.048512  \n",
       "mais de 1/2 ate 1 de salario    13.719622  \n",
       "mais de 1 ate 2 de salario      21.017733  \n",
       "mais de 2 ate 3 de salario      23.723042  \n",
       "mais de 3 ate 5 de salario      23.320463  \n",
       "mais de 5 de salario            21.052632  \n",
       "sem declaracao                  17.432950  "
      ]
     },
     "execution_count": 194,
     "metadata": {},
     "output_type": "execute_result"
    }
   ],
   "source": [
    "CT = pd.crosstab(P.SALARIO, P.REGIAO, normalize = 'index')*100\n",
    "CT"
   ]
  },
  {
   "cell_type": "code",
   "execution_count": 195,
   "metadata": {},
   "outputs": [
    {
     "name": "stderr",
     "output_type": "stream",
     "text": [
      "C:\\Users\\Gabriel Miras\\Documents\\INSPER\\Programas Insper\\AnacondaDownload\\lib\\site-packages\\matplotlib\\cbook\\deprecation.py:106: MatplotlibDeprecationWarning: Adding an axes using the same arguments as a previous axes currently reuses the earlier instance.  In a future version, a new instance will always be created and returned.  Meanwhile, this warning can be suppressed, and the future behavior ensured, by passing a unique label to each axes instance.\n",
      "  warnings.warn(message, mplDeprecation, stacklevel=1)\n"
     ]
    },
    {
     "data": {
      "text/plain": [
       "<matplotlib.legend.Legend at 0x2c5440432b0>"
      ]
     },
     "execution_count": 195,
     "metadata": {},
     "output_type": "execute_result"
    },
    {
     "data": {
      "image/png": "[encoded data removed]",
      "text/plain": [
       "<matplotlib.figure.Figure at 0x2c544043978>"
      ]
     },
     "metadata": {},
     "output_type": "display_data"
    }
   ],
   "source": [
    "plot1 = CT.plot(kind='bar',stacked=True, title='SALARIO',figsize=(8,6))\n",
    "plt.ylabel('Freq.Relativa (em %)') #nao sei se é freq relativa\n",
    "\n",
    "ax = plt.subplot(111)\n",
    "box = ax.get_position()\n",
    "ax.set_position([box.x0, box.y0, box.width * 0.8, box.height])\n",
    "ax.legend(loc='center left', bbox_to_anchor=(1, 0.5))"
   ]
  },
  {
   "cell_type": "markdown",
   "metadata": {},
   "source": [
    "**Neste gráfico podemos observar, como está a distribuição do salário em cada região do país. Observamos que a região Sudeste é a que possui uma maior quantidade de pessoas que não recebem salário ou que recebem mais do que 5 salários minimos ou que não declararam. Já na região Norte e Nordeste, percebemos que a maior quantidade de pessoas está nas que ganham até 1/4 de salário mínimo. Nas regiões Centro-Oeste e Sul os dados estão melhores distribuidos em todas as categorias.**"
   ]
  },
  {
   "cell_type": "markdown",
   "metadata": {},
   "source": [
    "#### Distribuição da variável Tipo de Previdência"
   ]
  },
  {
   "cell_type": "code",
   "execution_count": 196,
   "metadata": {
    "scrolled": true
   },
   "outputs": [
    {
     "data": {
      "text/plain": [
       "Federal      404\n",
       "Estadual      17\n",
       "Municipal     13\n",
       "Name: T_PREVIDENCIA, dtype: int64"
      ]
     },
     "execution_count": 196,
     "metadata": {},
     "output_type": "execute_result"
    }
   ],
   "source": [
    "Pre = P.T_PREVIDENCIA.value_counts()\n",
    "Pre"
   ]
  },
  {
   "cell_type": "markdown",
   "metadata": {},
   "source": [
    "#### Região X Tipo de Previdência"
   ]
  },
  {
   "cell_type": "code",
   "execution_count": 197,
   "metadata": {},
   "outputs": [
    {
     "data": {
      "text/html": [
       "<div>\n",
       "<style scoped>\n",
       "    .dataframe tbody tr th:only-of-type {\n",
       "        vertical-align: middle;\n",
       "    }\n",
       "\n",
       "    .dataframe tbody tr th {\n",
       "        vertical-align: top;\n",
       "    }\n",
       "\n",
       "    .dataframe thead th {\n",
       "        text-align: right;\n",
       "    }\n",
       "</style>\n",
       "<table border=\"1\" class=\"dataframe\">\n",
       "  <thead>\n",
       "    <tr style=\"text-align: right;\">\n",
       "      <th>T_PREVIDENCIA</th>\n",
       "      <th>Federal</th>\n",
       "      <th>Municipal</th>\n",
       "      <th>Estadual</th>\n",
       "    </tr>\n",
       "    <tr>\n",
       "      <th>REGIAO</th>\n",
       "      <th></th>\n",
       "      <th></th>\n",
       "      <th></th>\n",
       "    </tr>\n",
       "  </thead>\n",
       "  <tbody>\n",
       "    <tr>\n",
       "      <th>Centro-Oeste</th>\n",
       "      <td>90.000000</td>\n",
       "      <td>7.500000</td>\n",
       "      <td>2.500000</td>\n",
       "    </tr>\n",
       "    <tr>\n",
       "      <th>Nordeste</th>\n",
       "      <td>90.540541</td>\n",
       "      <td>2.702703</td>\n",
       "      <td>6.756757</td>\n",
       "    </tr>\n",
       "    <tr>\n",
       "      <th>Norte</th>\n",
       "      <td>84.210526</td>\n",
       "      <td>5.263158</td>\n",
       "      <td>10.526316</td>\n",
       "    </tr>\n",
       "    <tr>\n",
       "      <th>Sudeste</th>\n",
       "      <td>94.705882</td>\n",
       "      <td>2.352941</td>\n",
       "      <td>2.941176</td>\n",
       "    </tr>\n",
       "    <tr>\n",
       "      <th>Sul</th>\n",
       "      <td>96.428571</td>\n",
       "      <td>1.785714</td>\n",
       "      <td>1.785714</td>\n",
       "    </tr>\n",
       "  </tbody>\n",
       "</table>\n",
       "</div>"
      ],
      "text/plain": [
       "T_PREVIDENCIA    Federal  Municipal   Estadual\n",
       "REGIAO                                        \n",
       "Centro-Oeste   90.000000   7.500000   2.500000\n",
       "Nordeste       90.540541   2.702703   6.756757\n",
       "Norte          84.210526   5.263158  10.526316\n",
       "Sudeste        94.705882   2.352941   2.941176\n",
       "Sul            96.428571   1.785714   1.785714"
      ]
     },
     "execution_count": 197,
     "metadata": {},
     "output_type": "execute_result"
    }
   ],
   "source": [
    "CT2 = pd.crosstab(P.REGIAO, P.T_PREVIDENCIA, normalize = 'index')*100\n",
    "CT2"
   ]
  },
  {
   "cell_type": "code",
   "execution_count": 198,
   "metadata": {},
   "outputs": [
    {
     "data": {
      "image/png": "[encoded data removed]",
      "text/plain": [
       "<matplotlib.figure.Figure at 0x2c54bd62c88>"
      ]
     },
     "metadata": {},
     "output_type": "display_data"
    }
   ],
   "source": [
    "CT2.plot(kind='pie', colors=('yellow', 'salmon', 'blue', 'red', 'green'), autopct=\"%.2f\", legend=False, subplots=True, figsize=(14,7))\n",
    "plt.show()"
   ]
  },
  {
   "cell_type": "markdown",
   "metadata": {},
   "source": [
    "**Analisando este gráfico, observamos que a 43% da população que mora na região Norte trabalhava para o estado, pois a maior concentração está na previdência estadual. Já na região Centro-Oeste, podemos concluir que 39% da população trabalhava para a prefeitura, pois a maior concentração está na previdência municipal. E as regiões Sul e Sudeste possuem suas maiores concentrações na previdência federal, podendo concluir que a população possui trabalhos mais diversos.**"
   ]
  },
  {
   "cell_type": "markdown",
   "metadata": {},
   "source": [
    "#### Distribuição da variável Condição na Família"
   ]
  },
  {
   "cell_type": "code",
   "execution_count": 199,
   "metadata": {},
   "outputs": [
    {
     "data": {
      "text/plain": [
       "Pessoa de referencia              14038\n",
       "Conjuge                            4215\n",
       "Outro                              3153\n",
       "Agregado                            104\n",
       "Pensionista                          26\n",
       "Filho                                22\n",
       "Empregado domestico                   8\n",
       "Parente do empregado domestico        1\n",
       "Name: CONDICAO, dtype: int64"
      ]
     },
     "execution_count": 199,
     "metadata": {},
     "output_type": "execute_result"
    }
   ],
   "source": [
    "P.CONDICAO.value_counts()"
   ]
  },
  {
   "cell_type": "markdown",
   "metadata": {},
   "source": [
    "### Condição na família X Região"
   ]
  },
  {
   "cell_type": "code",
   "execution_count": 200,
   "metadata": {
    "scrolled": true
   },
   "outputs": [
    {
     "data": {
      "text/html": [
       "<div>\n",
       "<style scoped>\n",
       "    .dataframe tbody tr th:only-of-type {\n",
       "        vertical-align: middle;\n",
       "    }\n",
       "\n",
       "    .dataframe tbody tr th {\n",
       "        vertical-align: top;\n",
       "    }\n",
       "\n",
       "    .dataframe thead th {\n",
       "        text-align: right;\n",
       "    }\n",
       "</style>\n",
       "<table border=\"1\" class=\"dataframe\">\n",
       "  <thead>\n",
       "    <tr style=\"text-align: right;\">\n",
       "      <th>REGIAO</th>\n",
       "      <th>Centro-Oeste</th>\n",
       "      <th>Nordeste</th>\n",
       "      <th>Norte</th>\n",
       "      <th>Sudeste</th>\n",
       "      <th>Sul</th>\n",
       "    </tr>\n",
       "    <tr>\n",
       "      <th>CONDICAO</th>\n",
       "      <th></th>\n",
       "      <th></th>\n",
       "      <th></th>\n",
       "      <th></th>\n",
       "      <th></th>\n",
       "    </tr>\n",
       "  </thead>\n",
       "  <tbody>\n",
       "    <tr>\n",
       "      <th>Pessoa de referencia</th>\n",
       "      <td>8.811797</td>\n",
       "      <td>28.985610</td>\n",
       "      <td>10.991594</td>\n",
       "      <td>34.143040</td>\n",
       "      <td>17.067958</td>\n",
       "    </tr>\n",
       "    <tr>\n",
       "      <th>Conjuge</th>\n",
       "      <td>8.825623</td>\n",
       "      <td>28.469751</td>\n",
       "      <td>10.889680</td>\n",
       "      <td>34.068802</td>\n",
       "      <td>17.746145</td>\n",
       "    </tr>\n",
       "    <tr>\n",
       "      <th>Filho</th>\n",
       "      <td>4.545455</td>\n",
       "      <td>50.000000</td>\n",
       "      <td>4.545455</td>\n",
       "      <td>27.272727</td>\n",
       "      <td>13.636364</td>\n",
       "    </tr>\n",
       "    <tr>\n",
       "      <th>Outro</th>\n",
       "      <td>8.309546</td>\n",
       "      <td>28.924833</td>\n",
       "      <td>12.337456</td>\n",
       "      <td>33.365049</td>\n",
       "      <td>17.063114</td>\n",
       "    </tr>\n",
       "    <tr>\n",
       "      <th>Agregado</th>\n",
       "      <td>9.615385</td>\n",
       "      <td>29.807692</td>\n",
       "      <td>16.346154</td>\n",
       "      <td>23.076923</td>\n",
       "      <td>21.153846</td>\n",
       "    </tr>\n",
       "    <tr>\n",
       "      <th>Pensionista</th>\n",
       "      <td>11.538462</td>\n",
       "      <td>30.769231</td>\n",
       "      <td>11.538462</td>\n",
       "      <td>38.461538</td>\n",
       "      <td>7.692308</td>\n",
       "    </tr>\n",
       "    <tr>\n",
       "      <th>Empregado domestico</th>\n",
       "      <td>12.500000</td>\n",
       "      <td>37.500000</td>\n",
       "      <td>0.000000</td>\n",
       "      <td>50.000000</td>\n",
       "      <td>0.000000</td>\n",
       "    </tr>\n",
       "    <tr>\n",
       "      <th>Parente do empregado domestico</th>\n",
       "      <td>0.000000</td>\n",
       "      <td>0.000000</td>\n",
       "      <td>0.000000</td>\n",
       "      <td>100.000000</td>\n",
       "      <td>0.000000</td>\n",
       "    </tr>\n",
       "  </tbody>\n",
       "</table>\n",
       "</div>"
      ],
      "text/plain": [
       "REGIAO                          Centro-Oeste   Nordeste      Norte  \\\n",
       "CONDICAO                                                             \n",
       "Pessoa de referencia                8.811797  28.985610  10.991594   \n",
       "Conjuge                             8.825623  28.469751  10.889680   \n",
       "Filho                               4.545455  50.000000   4.545455   \n",
       "Outro                               8.309546  28.924833  12.337456   \n",
       "Agregado                            9.615385  29.807692  16.346154   \n",
       "Pensionista                        11.538462  30.769231  11.538462   \n",
       "Empregado domestico                12.500000  37.500000   0.000000   \n",
       "Parente do empregado domestico      0.000000   0.000000   0.000000   \n",
       "\n",
       "REGIAO                             Sudeste        Sul  \n",
       "CONDICAO                                               \n",
       "Pessoa de referencia             34.143040  17.067958  \n",
       "Conjuge                          34.068802  17.746145  \n",
       "Filho                            27.272727  13.636364  \n",
       "Outro                            33.365049  17.063114  \n",
       "Agregado                         23.076923  21.153846  \n",
       "Pensionista                      38.461538   7.692308  \n",
       "Empregado domestico              50.000000   0.000000  \n",
       "Parente do empregado domestico  100.000000   0.000000  "
      ]
     },
     "execution_count": 200,
     "metadata": {},
     "output_type": "execute_result"
    }
   ],
   "source": [
    "CT3 = pd.crosstab(P.CONDICAO, P.REGIAO, normalize = 'index')*100\n",
    "CT3"
   ]
  },
  {
   "cell_type": "code",
   "execution_count": 201,
   "metadata": {},
   "outputs": [
    {
     "name": "stderr",
     "output_type": "stream",
     "text": [
      "C:\\Users\\Gabriel Miras\\Documents\\INSPER\\Programas Insper\\AnacondaDownload\\lib\\site-packages\\matplotlib\\cbook\\deprecation.py:106: MatplotlibDeprecationWarning: Adding an axes using the same arguments as a previous axes currently reuses the earlier instance.  In a future version, a new instance will always be created and returned.  Meanwhile, this warning can be suppressed, and the future behavior ensured, by passing a unique label to each axes instance.\n",
      "  warnings.warn(message, mplDeprecation, stacklevel=1)\n"
     ]
    },
    {
     "data": {
      "text/plain": [
       "<matplotlib.legend.Legend at 0x2c544043ba8>"
      ]
     },
     "execution_count": 201,
     "metadata": {},
     "output_type": "execute_result"
    },
    {
     "data": {
      "image/png": "[encoded data removed]",
      "text/plain": [
       "<matplotlib.figure.Figure at 0x2c54d13bfd0>"
      ]
     },
     "metadata": {},
     "output_type": "display_data"
    }
   ],
   "source": [
    "plot = CT3.plot(kind='bar', stacked=True,title='Default por Pessoa de Referência')\n",
    "plt.ylabel('Freq.Relativa (em%)')\n",
    "\n",
    "ax = plt.subplot(111)\n",
    "box = ax.get_position()\n",
    "ax.set_position([box.x0, box.y0, box.width * 0.8, box.height])\n",
    "ax.legend(loc='center left', bbox_to_anchor=(1, 0.5))"
   ]
  },
  {
   "cell_type": "markdown",
   "metadata": {},
   "source": [
    "**Este gráfico nos mostra que em todas as regiões do país, os aposentados continuam sendo a pessoa de referência e sustendando suas famílias.**"
   ]
  },
  {
   "cell_type": "markdown",
   "metadata": {},
   "source": [
    "#### Distribuição da variável Estudo"
   ]
  },
  {
   "cell_type": "code",
   "execution_count": 202,
   "metadata": {
    "scrolled": false
   },
   "outputs": [
    {
     "data": {
      "text/plain": [
       "Fund. Incomp ou equivalente    9571\n",
       "Sem instrucao                  7310\n",
       "Med compl ou equilavente       1813\n",
       "Fund. compl ou equivalente     1313\n",
       "Superior completo              1285\n",
       "Med Incomp ou equivalente       174\n",
       "Sup Incompl ou equivalente       94\n",
       "nao determinado                   7\n",
       "Name: ESTUDO, dtype: int64"
      ]
     },
     "execution_count": 202,
     "metadata": {},
     "output_type": "execute_result"
    }
   ],
   "source": [
    "P.ESTUDO.value_counts()"
   ]
  },
  {
   "cell_type": "markdown",
   "metadata": {},
   "source": [
    "#### Região X Estudo"
   ]
  },
  {
   "cell_type": "code",
   "execution_count": 203,
   "metadata": {},
   "outputs": [
    {
     "data": {
      "text/html": [
       "<div>\n",
       "<style scoped>\n",
       "    .dataframe tbody tr th:only-of-type {\n",
       "        vertical-align: middle;\n",
       "    }\n",
       "\n",
       "    .dataframe tbody tr th {\n",
       "        vertical-align: top;\n",
       "    }\n",
       "\n",
       "    .dataframe thead th {\n",
       "        text-align: right;\n",
       "    }\n",
       "</style>\n",
       "<table border=\"1\" class=\"dataframe\">\n",
       "  <thead>\n",
       "    <tr style=\"text-align: right;\">\n",
       "      <th>ESTUDO</th>\n",
       "      <th>Sem instrucao</th>\n",
       "      <th>Fund. Incomp ou equivalente</th>\n",
       "      <th>Fund. compl ou equivalente</th>\n",
       "      <th>Med Incomp ou equivalente</th>\n",
       "      <th>Med compl ou equilavente</th>\n",
       "      <th>Sup Incompl ou equivalente</th>\n",
       "      <th>Superior completo</th>\n",
       "      <th>nao determinado</th>\n",
       "    </tr>\n",
       "    <tr>\n",
       "      <th>REGIAO</th>\n",
       "      <th></th>\n",
       "      <th></th>\n",
       "      <th></th>\n",
       "      <th></th>\n",
       "      <th></th>\n",
       "      <th></th>\n",
       "      <th></th>\n",
       "      <th></th>\n",
       "    </tr>\n",
       "  </thead>\n",
       "  <tbody>\n",
       "    <tr>\n",
       "      <th>Centro-Oeste</th>\n",
       "      <td>36.267232</td>\n",
       "      <td>42.364793</td>\n",
       "      <td>5.567338</td>\n",
       "      <td>0.742312</td>\n",
       "      <td>7.847296</td>\n",
       "      <td>0.371156</td>\n",
       "      <td>6.839873</td>\n",
       "      <td>0.000000</td>\n",
       "    </tr>\n",
       "    <tr>\n",
       "      <th>Nordeste</th>\n",
       "      <td>48.155278</td>\n",
       "      <td>35.097850</td>\n",
       "      <td>4.363170</td>\n",
       "      <td>0.673725</td>\n",
       "      <td>7.362849</td>\n",
       "      <td>0.240616</td>\n",
       "      <td>4.042348</td>\n",
       "      <td>0.064164</td>\n",
       "    </tr>\n",
       "    <tr>\n",
       "      <th>Norte</th>\n",
       "      <td>41.998342</td>\n",
       "      <td>40.671642</td>\n",
       "      <td>5.721393</td>\n",
       "      <td>0.995025</td>\n",
       "      <td>8.043118</td>\n",
       "      <td>0.165837</td>\n",
       "      <td>2.404643</td>\n",
       "      <td>0.000000</td>\n",
       "    </tr>\n",
       "    <tr>\n",
       "      <th>Sudeste</th>\n",
       "      <td>24.256074</td>\n",
       "      <td>48.375648</td>\n",
       "      <td>7.821458</td>\n",
       "      <td>0.832651</td>\n",
       "      <td>10.169260</td>\n",
       "      <td>0.586951</td>\n",
       "      <td>7.944308</td>\n",
       "      <td>0.013650</td>\n",
       "    </tr>\n",
       "    <tr>\n",
       "      <th>Sul</th>\n",
       "      <td>22.485845</td>\n",
       "      <td>55.513616</td>\n",
       "      <td>6.066325</td>\n",
       "      <td>0.889728</td>\n",
       "      <td>7.198706</td>\n",
       "      <td>0.674036</td>\n",
       "      <td>7.117822</td>\n",
       "      <td>0.053923</td>\n",
       "    </tr>\n",
       "  </tbody>\n",
       "</table>\n",
       "</div>"
      ],
      "text/plain": [
       "ESTUDO        Sem instrucao  Fund. Incomp ou equivalente  \\\n",
       "REGIAO                                                     \n",
       "Centro-Oeste      36.267232                    42.364793   \n",
       "Nordeste          48.155278                    35.097850   \n",
       "Norte             41.998342                    40.671642   \n",
       "Sudeste           24.256074                    48.375648   \n",
       "Sul               22.485845                    55.513616   \n",
       "\n",
       "ESTUDO        Fund. compl ou equivalente  Med Incomp ou equivalente  \\\n",
       "REGIAO                                                                \n",
       "Centro-Oeste                    5.567338                   0.742312   \n",
       "Nordeste                        4.363170                   0.673725   \n",
       "Norte                           5.721393                   0.995025   \n",
       "Sudeste                         7.821458                   0.832651   \n",
       "Sul                             6.066325                   0.889728   \n",
       "\n",
       "ESTUDO        Med compl ou equilavente  Sup Incompl ou equivalente  \\\n",
       "REGIAO                                                               \n",
       "Centro-Oeste                  7.847296                    0.371156   \n",
       "Nordeste                      7.362849                    0.240616   \n",
       "Norte                         8.043118                    0.165837   \n",
       "Sudeste                      10.169260                    0.586951   \n",
       "Sul                           7.198706                    0.674036   \n",
       "\n",
       "ESTUDO        Superior completo  nao determinado  \n",
       "REGIAO                                            \n",
       "Centro-Oeste           6.839873         0.000000  \n",
       "Nordeste               4.042348         0.064164  \n",
       "Norte                  2.404643         0.000000  \n",
       "Sudeste                7.944308         0.013650  \n",
       "Sul                    7.117822         0.053923  "
      ]
     },
     "execution_count": 203,
     "metadata": {},
     "output_type": "execute_result"
    }
   ],
   "source": [
    "CT4 = pd.crosstab(P.REGIAO, P.ESTUDO, normalize = 'index')*100\n",
    "CT4"
   ]
  },
  {
   "cell_type": "code",
   "execution_count": 204,
   "metadata": {},
   "outputs": [
    {
     "data": {
      "image/png": "[encoded data removed]",
      "text/plain": [
       "<matplotlib.figure.Figure at 0x2c549b0def0>"
      ]
     },
     "metadata": {},
     "output_type": "display_data"
    },
    {
     "data": {
      "image/png": "[encoded data removed]",
      "text/plain": [
       "<matplotlib.figure.Figure at 0x2c54e133f98>"
      ]
     },
     "metadata": {},
     "output_type": "display_data"
    },
    {
     "data": {
      "image/png": "[encoded data removed]",
      "text/plain": [
       "<matplotlib.figure.Figure at 0x2c48a12f198>"
      ]
     },
     "metadata": {},
     "output_type": "display_data"
    },
    {
     "data": {
      "image/png": "[encoded data removed]",
      "text/plain": [
       "<matplotlib.figure.Figure at 0x2c54bd15128>"
      ]
     },
     "metadata": {},
     "output_type": "display_data"
    }
   ],
   "source": [
    "CT4_1 = CT4.iloc[:,0:2]\n",
    "CT4_1.plot(kind='pie', colors=('yellow', 'salmon', 'blue', 'red', 'green'), autopct=\"%.2f\", legend=False, subplots=True, figsize=(12,4))\n",
    "plt.show()\n",
    "\n",
    "CT4_2 = CT4.iloc[:,2:4]\n",
    "CT4_2.plot(kind='pie', colors=('yellow', 'salmon', 'blue', 'red', 'green'), autopct=\"%.2f\", legend=False, subplots=True, figsize=(12,4))\n",
    "plt.show()\n",
    "\n",
    "CT4_3 = CT4.iloc[:,4:6]\n",
    "CT4_3.plot(kind='pie', colors=('yellow', 'salmon', 'blue', 'red', 'green'), autopct=\"%.2f\", legend=False, subplots=True, figsize=(12,4))\n",
    "plt.show()\n",
    "\n",
    "CT4_4 = CT4.iloc[:,6:]\n",
    "CT4_4.plot(kind='pie', colors=('yellow', 'salmon', 'blue', 'red', 'green'), autopct=\"%.2f\", legend=False, subplots=True, figsize=(12,4))\n",
    "plt.show()"
   ]
  },
  {
   "cell_type": "markdown",
   "metadata": {},
   "source": [
    "**A partir da análise do gráfico, observamos que as regiões Centro-Oeste, Sudeste e Sul são as que apresentam as maiores grau escolaridades. Já nas regiões Norte e Nordeste as maiores concentrações estão em pessoas sem instrução ou com ensino médio incompleto ou equivalente.**"
   ]
  },
  {
   "cell_type": "markdown",
   "metadata": {},
   "source": [
    "#### Distribuição da variável Sexo"
   ]
  },
  {
   "cell_type": "code",
   "execution_count": 205,
   "metadata": {
    "scrolled": true
   },
   "outputs": [
    {
     "data": {
      "text/plain": [
       "Feminino     12376\n",
       "Masculino     9191\n",
       "Name: SEXO, dtype: int64"
      ]
     },
     "execution_count": 205,
     "metadata": {},
     "output_type": "execute_result"
    }
   ],
   "source": [
    "P.SEXO.value_counts()"
   ]
  },
  {
   "cell_type": "markdown",
   "metadata": {},
   "source": [
    "#### Região X Sexo"
   ]
  },
  {
   "cell_type": "code",
   "execution_count": 206,
   "metadata": {},
   "outputs": [
    {
     "data": {
      "text/html": [
       "<div>\n",
       "<style scoped>\n",
       "    .dataframe tbody tr th:only-of-type {\n",
       "        vertical-align: middle;\n",
       "    }\n",
       "\n",
       "    .dataframe tbody tr th {\n",
       "        vertical-align: top;\n",
       "    }\n",
       "\n",
       "    .dataframe thead th {\n",
       "        text-align: right;\n",
       "    }\n",
       "</style>\n",
       "<table border=\"1\" class=\"dataframe\">\n",
       "  <thead>\n",
       "    <tr style=\"text-align: right;\">\n",
       "      <th>SEXO</th>\n",
       "      <th>Masculino</th>\n",
       "      <th>Feminino</th>\n",
       "    </tr>\n",
       "    <tr>\n",
       "      <th>REGIAO</th>\n",
       "      <th></th>\n",
       "      <th></th>\n",
       "    </tr>\n",
       "  </thead>\n",
       "  <tbody>\n",
       "    <tr>\n",
       "      <th>Centro-Oeste</th>\n",
       "      <td>45.811241</td>\n",
       "      <td>54.188759</td>\n",
       "    </tr>\n",
       "    <tr>\n",
       "      <th>Nordeste</th>\n",
       "      <td>42.171960</td>\n",
       "      <td>57.828040</td>\n",
       "    </tr>\n",
       "    <tr>\n",
       "      <th>Norte</th>\n",
       "      <td>47.761194</td>\n",
       "      <td>52.238806</td>\n",
       "    </tr>\n",
       "    <tr>\n",
       "      <th>Sudeste</th>\n",
       "      <td>40.950041</td>\n",
       "      <td>59.049959</td>\n",
       "    </tr>\n",
       "    <tr>\n",
       "      <th>Sul</th>\n",
       "      <td>41.682394</td>\n",
       "      <td>58.317606</td>\n",
       "    </tr>\n",
       "  </tbody>\n",
       "</table>\n",
       "</div>"
      ],
      "text/plain": [
       "SEXO          Masculino   Feminino\n",
       "REGIAO                            \n",
       "Centro-Oeste  45.811241  54.188759\n",
       "Nordeste      42.171960  57.828040\n",
       "Norte         47.761194  52.238806\n",
       "Sudeste       40.950041  59.049959\n",
       "Sul           41.682394  58.317606"
      ]
     },
     "execution_count": 206,
     "metadata": {},
     "output_type": "execute_result"
    }
   ],
   "source": [
    "CT5 = pd.crosstab(P.REGIAO, P.SEXO, normalize = 'index')*100\n",
    "CT5"
   ]
  },
  {
   "cell_type": "code",
   "execution_count": 207,
   "metadata": {},
   "outputs": [
    {
     "name": "stderr",
     "output_type": "stream",
     "text": [
      "C:\\Users\\Gabriel Miras\\Documents\\INSPER\\Programas Insper\\AnacondaDownload\\lib\\site-packages\\matplotlib\\cbook\\deprecation.py:106: MatplotlibDeprecationWarning: Adding an axes using the same arguments as a previous axes currently reuses the earlier instance.  In a future version, a new instance will always be created and returned.  Meanwhile, this warning can be suppressed, and the future behavior ensured, by passing a unique label to each axes instance.\n",
      "  warnings.warn(message, mplDeprecation, stacklevel=1)\n"
     ]
    },
    {
     "data": {
      "text/plain": [
       "<matplotlib.legend.Legend at 0x2c54d0ed668>"
      ]
     },
     "execution_count": 207,
     "metadata": {},
     "output_type": "execute_result"
    },
    {
     "data": {
      "image/png": "[encoded data removed]",
      "text/plain": [
       "<matplotlib.figure.Figure at 0x2c5496dff98>"
      ]
     },
     "metadata": {},
     "output_type": "display_data"
    }
   ],
   "source": [
    "plot5 = CT5.T.plot(kind='bar',stacked=True, title='SEXO' ,figsize=(8,6))\n",
    "plt.ylabel('Freq.Relativa (em %)') #nao sei se é freq relativa\n",
    "\n",
    "ax = plt.subplot(111)\n",
    "box = ax.get_position()\n",
    "ax.set_position([box.x0, box.y0, box.width * 0.8, box.height])\n",
    "ax.legend(loc='center left', bbox_to_anchor=(1, 0.5))"
   ]
  },
  {
   "cell_type": "markdown",
   "metadata": {},
   "source": [
    "**Podemos observar que a população brasileira acima dos 70 anos é maioritariamente feminina.**"
   ]
  },
  {
   "cell_type": "markdown",
   "metadata": {},
   "source": [
    "## Comparação com a Tabela 2011"
   ]
  },
  {
   "cell_type": "markdown",
   "metadata": {},
   "source": [
    "### Preparando tabela 2011"
   ]
  },
  {
   "cell_type": "code",
   "execution_count": 208,
   "metadata": {
    "scrolled": false
   },
   "outputs": [
    {
     "name": "stderr",
     "output_type": "stream",
     "text": [
      "C:\\Users\\Gabriel Miras\\Documents\\INSPER\\Programas Insper\\AnacondaDownload\\lib\\site-packages\\pandas\\core\\generic.py:3643: SettingWithCopyWarning: \n",
      "A value is trying to be set on a copy of a slice from a DataFrame.\n",
      "Try using .loc[row_indexer,col_indexer] = value instead\n",
      "\n",
      "See the caveats in the documentation: http://pandas.pydata.org/pandas-docs/stable/indexing.html#indexing-view-versus-copy\n",
      "  self[name] = value\n"
     ]
    },
    {
     "data": {
      "text/html": [
       "<div>\n",
       "<style scoped>\n",
       "    .dataframe tbody tr th:only-of-type {\n",
       "        vertical-align: middle;\n",
       "    }\n",
       "\n",
       "    .dataframe tbody tr th {\n",
       "        vertical-align: top;\n",
       "    }\n",
       "\n",
       "    .dataframe thead th {\n",
       "        text-align: right;\n",
       "    }\n",
       "</style>\n",
       "<table border=\"1\" class=\"dataframe\">\n",
       "  <thead>\n",
       "    <tr style=\"text-align: right;\">\n",
       "      <th></th>\n",
       "      <th>CONDICAO</th>\n",
       "      <th>SALARIO</th>\n",
       "      <th>IDADE</th>\n",
       "    </tr>\n",
       "  </thead>\n",
       "  <tbody>\n",
       "    <tr>\n",
       "      <th>16</th>\n",
       "      <td>Pessoa de referencia</td>\n",
       "      <td>mais de 1 ate 2 de salario</td>\n",
       "      <td>89</td>\n",
       "    </tr>\n",
       "    <tr>\n",
       "      <th>17</th>\n",
       "      <td>Conjuge</td>\n",
       "      <td>mais de 1 ate 2 de salario</td>\n",
       "      <td>72</td>\n",
       "    </tr>\n",
       "    <tr>\n",
       "      <th>45</th>\n",
       "      <td>Pessoa de referencia</td>\n",
       "      <td>mais de 1 ate 2 de salario</td>\n",
       "      <td>70</td>\n",
       "    </tr>\n",
       "    <tr>\n",
       "      <th>87</th>\n",
       "      <td>Outro</td>\n",
       "      <td>sem declaracao</td>\n",
       "      <td>82</td>\n",
       "    </tr>\n",
       "    <tr>\n",
       "      <th>109</th>\n",
       "      <td>Pessoa de referencia</td>\n",
       "      <td>mais de 1 ate 2 de salario</td>\n",
       "      <td>75</td>\n",
       "    </tr>\n",
       "  </tbody>\n",
       "</table>\n",
       "</div>"
      ],
      "text/plain": [
       "                 CONDICAO                     SALARIO  IDADE\n",
       "16   Pessoa de referencia  mais de 1 ate 2 de salario     89\n",
       "17                Conjuge  mais de 1 ate 2 de salario     72\n",
       "45   Pessoa de referencia  mais de 1 ate 2 de salario     70\n",
       "87                  Outro              sem declaracao     82\n",
       "109  Pessoa de referencia  mais de 1 ate 2 de salario     75"
      ]
     },
     "execution_count": 208,
     "metadata": {},
     "output_type": "execute_result"
    }
   ],
   "source": [
    "data = pd.read_csv('PES2011.csv',sep=',')\n",
    "_data = data[['V0402', 'V4743', 'V8005']]\n",
    "X = _data.rename(index = str, columns = {'V0402': \"CONDICAO\"})\n",
    "W = X.rename(index = str, columns = {'V8005': \"IDADE\"})\n",
    "Y = W.rename(index = str, columns = {'V4743': \"SALARIO\"})\n",
    "\n",
    "\n",
    "Q = Y[Y['IDADE']>= 70]\n",
    "\n",
    "\n",
    "Q.CONDICAO = Q.CONDICAO.astype('category')\n",
    "Q.CONDICAO.cat.categories = (['Pessoa de referencia', 'Conjuge', 'Filho', 'Outro', 'Agregado', 'Pensionista', 'Empregado domestico', 'Parente do empregado domestico'])\n",
    "\n",
    "Q.SALARIO = Q.SALARIO.astype('category')\n",
    "Q.SALARIO.cat.categories = (['Sem rendimento', 'Ate 1/4 de salario', 'mais de 1/4 ate 1/2 de salario', 'mais de 1/2 ate 1 de salario',\n",
    "                               'mais de 1 ate 2 de salario', 'mais de 2 ate 3 de salario', 'mais de 3 ate 5 de salario', 'mais de 5 de salario',\n",
    "                                'sem declaracao'])\n",
    "\n",
    "Q.head()"
   ]
  },
  {
   "cell_type": "markdown",
   "metadata": {},
   "source": [
    "####  Condição na familia X Salário - 2015"
   ]
  },
  {
   "cell_type": "code",
   "execution_count": 209,
   "metadata": {
    "scrolled": false
   },
   "outputs": [
    {
     "data": {
      "text/html": [
       "<div>\n",
       "<style scoped>\n",
       "    .dataframe tbody tr th:only-of-type {\n",
       "        vertical-align: middle;\n",
       "    }\n",
       "\n",
       "    .dataframe tbody tr th {\n",
       "        vertical-align: top;\n",
       "    }\n",
       "\n",
       "    .dataframe thead th {\n",
       "        text-align: right;\n",
       "    }\n",
       "</style>\n",
       "<table border=\"1\" class=\"dataframe\">\n",
       "  <thead>\n",
       "    <tr style=\"text-align: right;\">\n",
       "      <th>SALARIO</th>\n",
       "      <th>Sem rendimento</th>\n",
       "      <th>Ate 1/4 de salario</th>\n",
       "      <th>mais de 1/4 ate 1/2 de salario</th>\n",
       "      <th>mais de 1/2 ate 1 de salario</th>\n",
       "      <th>mais de 1 ate 2 de salario</th>\n",
       "      <th>mais de 2 ate 3 de salario</th>\n",
       "      <th>mais de 3 ate 5 de salario</th>\n",
       "      <th>mais de 5 de salario</th>\n",
       "      <th>sem declaracao</th>\n",
       "    </tr>\n",
       "    <tr>\n",
       "      <th>CONDICAO</th>\n",
       "      <th></th>\n",
       "      <th></th>\n",
       "      <th></th>\n",
       "      <th></th>\n",
       "      <th></th>\n",
       "      <th></th>\n",
       "      <th></th>\n",
       "      <th></th>\n",
       "      <th></th>\n",
       "    </tr>\n",
       "  </thead>\n",
       "  <tbody>\n",
       "    <tr>\n",
       "      <th>Pessoa de referencia</th>\n",
       "      <td>0.128223</td>\n",
       "      <td>0.790711</td>\n",
       "      <td>8.213421</td>\n",
       "      <td>39.435817</td>\n",
       "      <td>29.762074</td>\n",
       "      <td>7.971221</td>\n",
       "      <td>5.919647</td>\n",
       "      <td>5.449494</td>\n",
       "      <td>2.329392</td>\n",
       "    </tr>\n",
       "    <tr>\n",
       "      <th>Conjuge</th>\n",
       "      <td>0.047450</td>\n",
       "      <td>0.427046</td>\n",
       "      <td>7.663108</td>\n",
       "      <td>42.562278</td>\n",
       "      <td>29.110320</td>\n",
       "      <td>7.378410</td>\n",
       "      <td>5.456702</td>\n",
       "      <td>4.839858</td>\n",
       "      <td>2.514828</td>\n",
       "    </tr>\n",
       "    <tr>\n",
       "      <th>Filho</th>\n",
       "      <td>0.000000</td>\n",
       "      <td>0.000000</td>\n",
       "      <td>4.545455</td>\n",
       "      <td>40.909091</td>\n",
       "      <td>31.818182</td>\n",
       "      <td>13.636364</td>\n",
       "      <td>9.090909</td>\n",
       "      <td>0.000000</td>\n",
       "      <td>0.000000</td>\n",
       "    </tr>\n",
       "    <tr>\n",
       "      <th>Outro</th>\n",
       "      <td>0.031716</td>\n",
       "      <td>1.490644</td>\n",
       "      <td>10.497938</td>\n",
       "      <td>30.986362</td>\n",
       "      <td>32.889312</td>\n",
       "      <td>10.212496</td>\n",
       "      <td>7.104345</td>\n",
       "      <td>4.091342</td>\n",
       "      <td>2.695845</td>\n",
       "    </tr>\n",
       "    <tr>\n",
       "      <th>Agregado</th>\n",
       "      <td>0.000000</td>\n",
       "      <td>1.923077</td>\n",
       "      <td>5.769231</td>\n",
       "      <td>35.576923</td>\n",
       "      <td>34.615385</td>\n",
       "      <td>6.730769</td>\n",
       "      <td>7.692308</td>\n",
       "      <td>3.846154</td>\n",
       "      <td>3.846154</td>\n",
       "    </tr>\n",
       "    <tr>\n",
       "      <th>Pensionista</th>\n",
       "      <td>0.000000</td>\n",
       "      <td>0.000000</td>\n",
       "      <td>0.000000</td>\n",
       "      <td>0.000000</td>\n",
       "      <td>0.000000</td>\n",
       "      <td>0.000000</td>\n",
       "      <td>0.000000</td>\n",
       "      <td>0.000000</td>\n",
       "      <td>0.000000</td>\n",
       "    </tr>\n",
       "    <tr>\n",
       "      <th>Empregado domestico</th>\n",
       "      <td>0.000000</td>\n",
       "      <td>0.000000</td>\n",
       "      <td>0.000000</td>\n",
       "      <td>0.000000</td>\n",
       "      <td>0.000000</td>\n",
       "      <td>0.000000</td>\n",
       "      <td>0.000000</td>\n",
       "      <td>0.000000</td>\n",
       "      <td>0.000000</td>\n",
       "    </tr>\n",
       "    <tr>\n",
       "      <th>Parente do empregado domestico</th>\n",
       "      <td>0.000000</td>\n",
       "      <td>0.000000</td>\n",
       "      <td>0.000000</td>\n",
       "      <td>0.000000</td>\n",
       "      <td>0.000000</td>\n",
       "      <td>0.000000</td>\n",
       "      <td>0.000000</td>\n",
       "      <td>0.000000</td>\n",
       "      <td>0.000000</td>\n",
       "    </tr>\n",
       "  </tbody>\n",
       "</table>\n",
       "</div>"
      ],
      "text/plain": [
       "SALARIO                         Sem rendimento  Ate 1/4 de salario  \\\n",
       "CONDICAO                                                             \n",
       "Pessoa de referencia                  0.128223            0.790711   \n",
       "Conjuge                               0.047450            0.427046   \n",
       "Filho                                 0.000000            0.000000   \n",
       "Outro                                 0.031716            1.490644   \n",
       "Agregado                              0.000000            1.923077   \n",
       "Pensionista                           0.000000            0.000000   \n",
       "Empregado domestico                   0.000000            0.000000   \n",
       "Parente do empregado domestico        0.000000            0.000000   \n",
       "\n",
       "SALARIO                         mais de 1/4 ate 1/2 de salario  \\\n",
       "CONDICAO                                                         \n",
       "Pessoa de referencia                                  8.213421   \n",
       "Conjuge                                               7.663108   \n",
       "Filho                                                 4.545455   \n",
       "Outro                                                10.497938   \n",
       "Agregado                                              5.769231   \n",
       "Pensionista                                           0.000000   \n",
       "Empregado domestico                                   0.000000   \n",
       "Parente do empregado domestico                        0.000000   \n",
       "\n",
       "SALARIO                         mais de 1/2 ate 1 de salario  \\\n",
       "CONDICAO                                                       \n",
       "Pessoa de referencia                               39.435817   \n",
       "Conjuge                                            42.562278   \n",
       "Filho                                              40.909091   \n",
       "Outro                                              30.986362   \n",
       "Agregado                                           35.576923   \n",
       "Pensionista                                         0.000000   \n",
       "Empregado domestico                                 0.000000   \n",
       "Parente do empregado domestico                      0.000000   \n",
       "\n",
       "SALARIO                         mais de 1 ate 2 de salario  \\\n",
       "CONDICAO                                                     \n",
       "Pessoa de referencia                             29.762074   \n",
       "Conjuge                                          29.110320   \n",
       "Filho                                            31.818182   \n",
       "Outro                                            32.889312   \n",
       "Agregado                                         34.615385   \n",
       "Pensionista                                       0.000000   \n",
       "Empregado domestico                               0.000000   \n",
       "Parente do empregado domestico                    0.000000   \n",
       "\n",
       "SALARIO                         mais de 2 ate 3 de salario  \\\n",
       "CONDICAO                                                     \n",
       "Pessoa de referencia                              7.971221   \n",
       "Conjuge                                           7.378410   \n",
       "Filho                                            13.636364   \n",
       "Outro                                            10.212496   \n",
       "Agregado                                          6.730769   \n",
       "Pensionista                                       0.000000   \n",
       "Empregado domestico                               0.000000   \n",
       "Parente do empregado domestico                    0.000000   \n",
       "\n",
       "SALARIO                         mais de 3 ate 5 de salario  \\\n",
       "CONDICAO                                                     \n",
       "Pessoa de referencia                              5.919647   \n",
       "Conjuge                                           5.456702   \n",
       "Filho                                             9.090909   \n",
       "Outro                                             7.104345   \n",
       "Agregado                                          7.692308   \n",
       "Pensionista                                       0.000000   \n",
       "Empregado domestico                               0.000000   \n",
       "Parente do empregado domestico                    0.000000   \n",
       "\n",
       "SALARIO                         mais de 5 de salario  sem declaracao  \n",
       "CONDICAO                                                              \n",
       "Pessoa de referencia                        5.449494        2.329392  \n",
       "Conjuge                                     4.839858        2.514828  \n",
       "Filho                                       0.000000        0.000000  \n",
       "Outro                                       4.091342        2.695845  \n",
       "Agregado                                    3.846154        3.846154  \n",
       "Pensionista                                 0.000000        0.000000  \n",
       "Empregado domestico                         0.000000        0.000000  \n",
       "Parente do empregado domestico              0.000000        0.000000  "
      ]
     },
     "execution_count": 209,
     "metadata": {},
     "output_type": "execute_result"
    }
   ],
   "source": [
    "CT6 = pd.crosstab(P.CONDICAO, P.SALARIO, normalize = 'index')*100\n",
    "CT6 "
   ]
  },
  {
   "cell_type": "markdown",
   "metadata": {},
   "source": [
    "#### Condição na família X Salário - 2011"
   ]
  },
  {
   "cell_type": "code",
   "execution_count": 210,
   "metadata": {
    "scrolled": true
   },
   "outputs": [
    {
     "data": {
      "text/html": [
       "<div>\n",
       "<style scoped>\n",
       "    .dataframe tbody tr th:only-of-type {\n",
       "        vertical-align: middle;\n",
       "    }\n",
       "\n",
       "    .dataframe tbody tr th {\n",
       "        vertical-align: top;\n",
       "    }\n",
       "\n",
       "    .dataframe thead th {\n",
       "        text-align: right;\n",
       "    }\n",
       "</style>\n",
       "<table border=\"1\" class=\"dataframe\">\n",
       "  <thead>\n",
       "    <tr style=\"text-align: right;\">\n",
       "      <th>SALARIO</th>\n",
       "      <th>Sem rendimento</th>\n",
       "      <th>Ate 1/4 de salario</th>\n",
       "      <th>mais de 1/4 ate 1/2 de salario</th>\n",
       "      <th>mais de 1/2 ate 1 de salario</th>\n",
       "      <th>mais de 1 ate 2 de salario</th>\n",
       "      <th>mais de 2 ate 3 de salario</th>\n",
       "      <th>mais de 3 ate 5 de salario</th>\n",
       "      <th>mais de 5 de salario</th>\n",
       "      <th>sem declaracao</th>\n",
       "    </tr>\n",
       "    <tr>\n",
       "      <th>CONDICAO</th>\n",
       "      <th></th>\n",
       "      <th></th>\n",
       "      <th></th>\n",
       "      <th></th>\n",
       "      <th></th>\n",
       "      <th></th>\n",
       "      <th></th>\n",
       "      <th></th>\n",
       "      <th></th>\n",
       "    </tr>\n",
       "  </thead>\n",
       "  <tbody>\n",
       "    <tr>\n",
       "      <th>Pessoa de referencia</th>\n",
       "      <td>0.673946</td>\n",
       "      <td>0.810442</td>\n",
       "      <td>8.488313</td>\n",
       "      <td>36.435762</td>\n",
       "      <td>28.570210</td>\n",
       "      <td>8.198260</td>\n",
       "      <td>5.877837</td>\n",
       "      <td>5.331855</td>\n",
       "      <td>5.613377</td>\n",
       "    </tr>\n",
       "    <tr>\n",
       "      <th>Conjuge</th>\n",
       "      <td>0.325926</td>\n",
       "      <td>0.533333</td>\n",
       "      <td>6.785185</td>\n",
       "      <td>39.111111</td>\n",
       "      <td>29.096296</td>\n",
       "      <td>7.703704</td>\n",
       "      <td>5.807407</td>\n",
       "      <td>4.977778</td>\n",
       "      <td>5.659259</td>\n",
       "    </tr>\n",
       "    <tr>\n",
       "      <th>Filho</th>\n",
       "      <td>0.000000</td>\n",
       "      <td>0.000000</td>\n",
       "      <td>0.000000</td>\n",
       "      <td>47.368421</td>\n",
       "      <td>36.842105</td>\n",
       "      <td>5.263158</td>\n",
       "      <td>5.263158</td>\n",
       "      <td>5.263158</td>\n",
       "      <td>0.000000</td>\n",
       "    </tr>\n",
       "    <tr>\n",
       "      <th>Outro</th>\n",
       "      <td>0.069156</td>\n",
       "      <td>1.798064</td>\n",
       "      <td>10.650069</td>\n",
       "      <td>29.875519</td>\n",
       "      <td>30.567082</td>\n",
       "      <td>9.716459</td>\n",
       "      <td>6.085754</td>\n",
       "      <td>3.941909</td>\n",
       "      <td>7.295989</td>\n",
       "    </tr>\n",
       "    <tr>\n",
       "      <th>Agregado</th>\n",
       "      <td>1.136364</td>\n",
       "      <td>1.136364</td>\n",
       "      <td>6.818182</td>\n",
       "      <td>27.272727</td>\n",
       "      <td>35.227273</td>\n",
       "      <td>10.227273</td>\n",
       "      <td>5.681818</td>\n",
       "      <td>2.272727</td>\n",
       "      <td>10.227273</td>\n",
       "    </tr>\n",
       "    <tr>\n",
       "      <th>Pensionista</th>\n",
       "      <td>0.000000</td>\n",
       "      <td>0.000000</td>\n",
       "      <td>0.000000</td>\n",
       "      <td>0.000000</td>\n",
       "      <td>0.000000</td>\n",
       "      <td>0.000000</td>\n",
       "      <td>0.000000</td>\n",
       "      <td>0.000000</td>\n",
       "      <td>0.000000</td>\n",
       "    </tr>\n",
       "    <tr>\n",
       "      <th>Empregado domestico</th>\n",
       "      <td>0.000000</td>\n",
       "      <td>0.000000</td>\n",
       "      <td>0.000000</td>\n",
       "      <td>0.000000</td>\n",
       "      <td>0.000000</td>\n",
       "      <td>0.000000</td>\n",
       "      <td>0.000000</td>\n",
       "      <td>0.000000</td>\n",
       "      <td>0.000000</td>\n",
       "    </tr>\n",
       "    <tr>\n",
       "      <th>Parente do empregado domestico</th>\n",
       "      <td>0.000000</td>\n",
       "      <td>0.000000</td>\n",
       "      <td>0.000000</td>\n",
       "      <td>0.000000</td>\n",
       "      <td>0.000000</td>\n",
       "      <td>0.000000</td>\n",
       "      <td>0.000000</td>\n",
       "      <td>0.000000</td>\n",
       "      <td>0.000000</td>\n",
       "    </tr>\n",
       "  </tbody>\n",
       "</table>\n",
       "</div>"
      ],
      "text/plain": [
       "SALARIO                         Sem rendimento  Ate 1/4 de salario  \\\n",
       "CONDICAO                                                             \n",
       "Pessoa de referencia                  0.673946            0.810442   \n",
       "Conjuge                               0.325926            0.533333   \n",
       "Filho                                 0.000000            0.000000   \n",
       "Outro                                 0.069156            1.798064   \n",
       "Agregado                              1.136364            1.136364   \n",
       "Pensionista                           0.000000            0.000000   \n",
       "Empregado domestico                   0.000000            0.000000   \n",
       "Parente do empregado domestico        0.000000            0.000000   \n",
       "\n",
       "SALARIO                         mais de 1/4 ate 1/2 de salario  \\\n",
       "CONDICAO                                                         \n",
       "Pessoa de referencia                                  8.488313   \n",
       "Conjuge                                               6.785185   \n",
       "Filho                                                 0.000000   \n",
       "Outro                                                10.650069   \n",
       "Agregado                                              6.818182   \n",
       "Pensionista                                           0.000000   \n",
       "Empregado domestico                                   0.000000   \n",
       "Parente do empregado domestico                        0.000000   \n",
       "\n",
       "SALARIO                         mais de 1/2 ate 1 de salario  \\\n",
       "CONDICAO                                                       \n",
       "Pessoa de referencia                               36.435762   \n",
       "Conjuge                                            39.111111   \n",
       "Filho                                              47.368421   \n",
       "Outro                                              29.875519   \n",
       "Agregado                                           27.272727   \n",
       "Pensionista                                         0.000000   \n",
       "Empregado domestico                                 0.000000   \n",
       "Parente do empregado domestico                      0.000000   \n",
       "\n",
       "SALARIO                         mais de 1 ate 2 de salario  \\\n",
       "CONDICAO                                                     \n",
       "Pessoa de referencia                             28.570210   \n",
       "Conjuge                                          29.096296   \n",
       "Filho                                            36.842105   \n",
       "Outro                                            30.567082   \n",
       "Agregado                                         35.227273   \n",
       "Pensionista                                       0.000000   \n",
       "Empregado domestico                               0.000000   \n",
       "Parente do empregado domestico                    0.000000   \n",
       "\n",
       "SALARIO                         mais de 2 ate 3 de salario  \\\n",
       "CONDICAO                                                     \n",
       "Pessoa de referencia                              8.198260   \n",
       "Conjuge                                           7.703704   \n",
       "Filho                                             5.263158   \n",
       "Outro                                             9.716459   \n",
       "Agregado                                         10.227273   \n",
       "Pensionista                                       0.000000   \n",
       "Empregado domestico                               0.000000   \n",
       "Parente do empregado domestico                    0.000000   \n",
       "\n",
       "SALARIO                         mais de 3 ate 5 de salario  \\\n",
       "CONDICAO                                                     \n",
       "Pessoa de referencia                              5.877837   \n",
       "Conjuge                                           5.807407   \n",
       "Filho                                             5.263158   \n",
       "Outro                                             6.085754   \n",
       "Agregado                                          5.681818   \n",
       "Pensionista                                       0.000000   \n",
       "Empregado domestico                               0.000000   \n",
       "Parente do empregado domestico                    0.000000   \n",
       "\n",
       "SALARIO                         mais de 5 de salario  sem declaracao  \n",
       "CONDICAO                                                              \n",
       "Pessoa de referencia                        5.331855        5.613377  \n",
       "Conjuge                                     4.977778        5.659259  \n",
       "Filho                                       5.263158        0.000000  \n",
       "Outro                                       3.941909        7.295989  \n",
       "Agregado                                    2.272727       10.227273  \n",
       "Pensionista                                 0.000000        0.000000  \n",
       "Empregado domestico                         0.000000        0.000000  \n",
       "Parente do empregado domestico              0.000000        0.000000  "
      ]
     },
     "execution_count": 210,
     "metadata": {},
     "output_type": "execute_result"
    }
   ],
   "source": [
    "CT7 = pd.crosstab(Q.CONDICAO, Q.SALARIO, normalize = 'index')*100\n",
    "CT7 "
   ]
  },
  {
   "cell_type": "code",
   "execution_count": 211,
   "metadata": {},
   "outputs": [
    {
     "name": "stderr",
     "output_type": "stream",
     "text": [
      "C:\\Users\\Gabriel Miras\\Documents\\INSPER\\Programas Insper\\AnacondaDownload\\lib\\site-packages\\matplotlib\\cbook\\deprecation.py:106: MatplotlibDeprecationWarning: Adding an axes using the same arguments as a previous axes currently reuses the earlier instance.  In a future version, a new instance will always be created and returned.  Meanwhile, this warning can be suppressed, and the future behavior ensured, by passing a unique label to each axes instance.\n",
      "  warnings.warn(message, mplDeprecation, stacklevel=1)\n"
     ]
    },
    {
     "data": {
      "text/plain": [
       "<matplotlib.legend.Legend at 0x2c54bd54b00>"
      ]
     },
     "execution_count": 211,
     "metadata": {},
     "output_type": "execute_result"
    },
    {
     "data": {
      "text/plain": [
       "<matplotlib.figure.Figure at 0x2c543c44128>"
      ]
     },
     "metadata": {},
     "output_type": "display_data"
    },
    {
     "data": {
      "image/png": "[encoded data removed]",
      "text/plain": [
       "<matplotlib.figure.Figure at 0x2c543c44d30>"
      ]
     },
     "metadata": {},
     "output_type": "display_data"
    },
    {
     "data": {
      "image/png": "[encoded data removed]",
      "text/plain": [
       "<matplotlib.figure.Figure at 0x2c54bd54e10>"
      ]
     },
     "metadata": {},
     "output_type": "display_data"
    }
   ],
   "source": [
    "fig = plt.figure(figsize=(1,6))\n",
    "\n",
    "plot = CT7.plot(kind='bar', stacked=True,title='Condição na Família X Salário - 2011')\n",
    "plt.ylabel('Freq.Relativa (em%)')\n",
    "ax = plt.subplot(111)\n",
    "box = ax.get_position()\n",
    "ax.set_position([box.x0, box.y0, box.width * 0.8, box.height])\n",
    "ax.legend(loc='center left', bbox_to_anchor=(1, 0.5))\n",
    "\n",
    "\n",
    "plot = CT6.plot(kind='bar', stacked=True,title='Condição na Família X Salário - 2015')\n",
    "plt.ylabel('Freq.Relativa (em%)')\n",
    "ax = plt.subplot(111)\n",
    "box = ax.get_position()\n",
    "ax.set_position([box.x0, box.y0, box.width * 0.8, box.height])\n",
    "ax.legend(loc='center left', bbox_to_anchor=(1, 0.5))"
   ]
  },
  {
   "cell_type": "markdown",
   "metadata": {},
   "source": [
    "___\n",
    "## Conclusão "
   ]
  },
  {
   "cell_type": "markdown",
   "metadata": {
    "collapsed": true
   },
   "source": [
    "**Depois de analisar a distribuição dos dados podemos traçar um perfil para o aposentado brasileiro. Levando em consideração que o salário mínimo de 2015 era de R$788,00podemos concluir que a melhor região para se ter um trabalho era a região centro-oeste ou sul, onde os dados sobre salários estão melhores distribuídos. Porém na região sul temos uma maior concentração de previdência federal, o que nos mostra que as pessoas não necessitam de um órgão público para conseguir emprego, ou seja, possuem empregos próprios. Também podemos complementar esse perfil dizendo que as regiões sul, sudeste e centro-oeste possuem mais pessoas com maiores graus de escolaridade e que a maior parte dessas pessoas acima de 70 anos é do sexo feminino. Por fim, ao compararmos os dados de condição salarial familiar de 2011 com 2015, e apesar de uma grande parte estar na faixa de ½ e 2 salários, podemos observar que a igualdade entre quantidade de pessoas que ganham o mesmo está tendendo a um equilíbrio.** "
   ]
  }
 ],
 "metadata": {
  "anaconda-cloud": {},
  "kernelspec": {
   "display_name": "Python 3",
   "language": "python",
   "name": "python3"
  },
  "language_info": {
   "codemirror_mode": {
    "name": "ipython",
    "version": 3
   },
   "file_extension": ".py",
   "mimetype": "text/x-python",
   "name": "python",
   "nbconvert_exporter": "python",
   "pygments_lexer": "ipython3",
   "version": "3.6.4"
  }
 },
 "nbformat": 4,
 "nbformat_minor": 1
}
