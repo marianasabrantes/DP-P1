{
 "cells": [
  {
   "cell_type": "markdown",
   "metadata": {},
   "source": [
    "___\n",
    "# Ciência dos Dados - PROJETO 1"
   ]
  },
  {
   "cell_type": "markdown",
   "metadata": {},
   "source": [
    "## Gabriel Miras e Mariana Abrantes\n",
    "___"
   ]
  },
  {
   "cell_type": "markdown",
   "metadata": {},
   "source": [
    "## Aposentadoria brasileira"
   ]
  },
  {
   "cell_type": "markdown",
   "metadata": {},
   "source": [
    "___\n",
    "## Introdução\n",
    "\n",
    "Para esse projeto escolhemos identificar qual o perfil do aposentado brasileiro através da leitura e análise dos dados. Ao final desse trabalho, devemos ter informações suficientes para estudar o posicionamento do aposentado, como quantas pessoas ainda são o responsável financeiro da família após se aposentar, ou quantas dessas pessoas ainda continuam com um emprego. Para um melhor estudo iremos filtrar os dados, escolhendo variáveis que achamos ser mais relevantes. Dentre todas as variáveis disponíveis, escolhemos estado onde a pessoa vive, o sexo, a idade, nível de escolaridade, se possui carteira assinada, cargo e rendimento. Temos que dar ênfase também no período em que a pesquisa está se referindo. Por exemplo, uma pessoa poderia estar desempregada três semanas antes da pesquisa ser realizada.\n"
   ]
  },
  {
   "cell_type": "markdown",
   "metadata": {},
   "source": [
    "___\n",
    "## Filtros da base de dados"
   ]
  },
  {
   "cell_type": "code",
   "execution_count": 80,
   "metadata": {},
   "outputs": [],
   "source": [
    "%matplotlib inline\n",
    "import pandas as pd\n",
    "import matplotlib.pyplot as plt\n",
    "import numpy as np\n",
    "import os"
   ]
  },
  {
   "cell_type": "code",
   "execution_count": 81,
   "metadata": {},
   "outputs": [
    {
     "name": "stdout",
     "output_type": "stream",
     "text": [
      "Esperamos trabalhar no diretório\n",
      "C:\\Users\\Gabriel Miras\\Documents\\INSPER\\3 SEMESTRE (DP)\\C DADOS DP\\Projetos\\Projeto 1\\DP-P1\n"
     ]
    }
   ],
   "source": [
    "print('Esperamos trabalhar no diretório')\n",
    "print(os.getcwd())"
   ]
  },
  {
   "cell_type": "code",
   "execution_count": 82,
   "metadata": {},
   "outputs": [
    {
     "ename": "FileNotFoundError",
     "evalue": "File b'PES2015.csv' does not exist",
     "output_type": "error",
     "traceback": [
      "\u001b[1;31m---------------------------------------------------------------------------\u001b[0m",
      "\u001b[1;31mFileNotFoundError\u001b[0m                         Traceback (most recent call last)",
      "\u001b[1;32m<ipython-input-82-d79b38f72643>\u001b[0m in \u001b[0;36m<module>\u001b[1;34m()\u001b[0m\n\u001b[0;32m      1\u001b[0m \u001b[1;31m#Se usar o arquivo descompactado\u001b[0m\u001b[1;33m\u001b[0m\u001b[1;33m\u001b[0m\u001b[0m\n\u001b[1;32m----> 2\u001b[1;33m \u001b[0mdados\u001b[0m \u001b[1;33m=\u001b[0m \u001b[0mpd\u001b[0m\u001b[1;33m.\u001b[0m\u001b[0mread_csv\u001b[0m\u001b[1;33m(\u001b[0m\u001b[1;34m'PES2015.csv'\u001b[0m\u001b[1;33m,\u001b[0m\u001b[0msep\u001b[0m\u001b[1;33m=\u001b[0m\u001b[1;34m','\u001b[0m\u001b[1;33m)\u001b[0m\u001b[1;33m\u001b[0m\u001b[0m\n\u001b[0m\u001b[0;32m      3\u001b[0m \u001b[0mdados\u001b[0m\u001b[1;33m\u001b[0m\u001b[0m\n\u001b[0;32m      4\u001b[0m \u001b[1;31m#Se usar o arquivo compactado como está no dropbox púbico\u001b[0m\u001b[1;33m\u001b[0m\u001b[1;33m\u001b[0m\u001b[0m\n\u001b[0;32m      5\u001b[0m \u001b[1;31m#pd.read_csv('PES2015csv.zip', compression='zip', header=0, sep=',', quotechar='\"')\u001b[0m\u001b[1;33m\u001b[0m\u001b[1;33m\u001b[0m\u001b[0m\n",
      "\u001b[1;32m~\\Documents\\INSPER\\Programas Insper\\AnacondaDownload\\lib\\site-packages\\pandas\\io\\parsers.py\u001b[0m in \u001b[0;36mparser_f\u001b[1;34m(filepath_or_buffer, sep, delimiter, header, names, index_col, usecols, squeeze, prefix, mangle_dupe_cols, dtype, engine, converters, true_values, false_values, skipinitialspace, skiprows, nrows, na_values, keep_default_na, na_filter, verbose, skip_blank_lines, parse_dates, infer_datetime_format, keep_date_col, date_parser, dayfirst, iterator, chunksize, compression, thousands, decimal, lineterminator, quotechar, quoting, escapechar, comment, encoding, dialect, tupleize_cols, error_bad_lines, warn_bad_lines, skipfooter, skip_footer, doublequote, delim_whitespace, as_recarray, compact_ints, use_unsigned, low_memory, buffer_lines, memory_map, float_precision)\u001b[0m\n\u001b[0;32m    707\u001b[0m                     skip_blank_lines=skip_blank_lines)\n\u001b[0;32m    708\u001b[0m \u001b[1;33m\u001b[0m\u001b[0m\n\u001b[1;32m--> 709\u001b[1;33m         \u001b[1;32mreturn\u001b[0m \u001b[0m_read\u001b[0m\u001b[1;33m(\u001b[0m\u001b[0mfilepath_or_buffer\u001b[0m\u001b[1;33m,\u001b[0m \u001b[0mkwds\u001b[0m\u001b[1;33m)\u001b[0m\u001b[1;33m\u001b[0m\u001b[0m\n\u001b[0m\u001b[0;32m    710\u001b[0m \u001b[1;33m\u001b[0m\u001b[0m\n\u001b[0;32m    711\u001b[0m     \u001b[0mparser_f\u001b[0m\u001b[1;33m.\u001b[0m\u001b[0m__name__\u001b[0m \u001b[1;33m=\u001b[0m \u001b[0mname\u001b[0m\u001b[1;33m\u001b[0m\u001b[0m\n",
      "\u001b[1;32m~\\Documents\\INSPER\\Programas Insper\\AnacondaDownload\\lib\\site-packages\\pandas\\io\\parsers.py\u001b[0m in \u001b[0;36m_read\u001b[1;34m(filepath_or_buffer, kwds)\u001b[0m\n\u001b[0;32m    447\u001b[0m \u001b[1;33m\u001b[0m\u001b[0m\n\u001b[0;32m    448\u001b[0m     \u001b[1;31m# Create the parser.\u001b[0m\u001b[1;33m\u001b[0m\u001b[1;33m\u001b[0m\u001b[0m\n\u001b[1;32m--> 449\u001b[1;33m     \u001b[0mparser\u001b[0m \u001b[1;33m=\u001b[0m \u001b[0mTextFileReader\u001b[0m\u001b[1;33m(\u001b[0m\u001b[0mfilepath_or_buffer\u001b[0m\u001b[1;33m,\u001b[0m \u001b[1;33m**\u001b[0m\u001b[0mkwds\u001b[0m\u001b[1;33m)\u001b[0m\u001b[1;33m\u001b[0m\u001b[0m\n\u001b[0m\u001b[0;32m    450\u001b[0m \u001b[1;33m\u001b[0m\u001b[0m\n\u001b[0;32m    451\u001b[0m     \u001b[1;32mif\u001b[0m \u001b[0mchunksize\u001b[0m \u001b[1;32mor\u001b[0m \u001b[0miterator\u001b[0m\u001b[1;33m:\u001b[0m\u001b[1;33m\u001b[0m\u001b[0m\n",
      "\u001b[1;32m~\\Documents\\INSPER\\Programas Insper\\AnacondaDownload\\lib\\site-packages\\pandas\\io\\parsers.py\u001b[0m in \u001b[0;36m__init__\u001b[1;34m(self, f, engine, **kwds)\u001b[0m\n\u001b[0;32m    816\u001b[0m             \u001b[0mself\u001b[0m\u001b[1;33m.\u001b[0m\u001b[0moptions\u001b[0m\u001b[1;33m[\u001b[0m\u001b[1;34m'has_index_names'\u001b[0m\u001b[1;33m]\u001b[0m \u001b[1;33m=\u001b[0m \u001b[0mkwds\u001b[0m\u001b[1;33m[\u001b[0m\u001b[1;34m'has_index_names'\u001b[0m\u001b[1;33m]\u001b[0m\u001b[1;33m\u001b[0m\u001b[0m\n\u001b[0;32m    817\u001b[0m \u001b[1;33m\u001b[0m\u001b[0m\n\u001b[1;32m--> 818\u001b[1;33m         \u001b[0mself\u001b[0m\u001b[1;33m.\u001b[0m\u001b[0m_make_engine\u001b[0m\u001b[1;33m(\u001b[0m\u001b[0mself\u001b[0m\u001b[1;33m.\u001b[0m\u001b[0mengine\u001b[0m\u001b[1;33m)\u001b[0m\u001b[1;33m\u001b[0m\u001b[0m\n\u001b[0m\u001b[0;32m    819\u001b[0m \u001b[1;33m\u001b[0m\u001b[0m\n\u001b[0;32m    820\u001b[0m     \u001b[1;32mdef\u001b[0m \u001b[0mclose\u001b[0m\u001b[1;33m(\u001b[0m\u001b[0mself\u001b[0m\u001b[1;33m)\u001b[0m\u001b[1;33m:\u001b[0m\u001b[1;33m\u001b[0m\u001b[0m\n",
      "\u001b[1;32m~\\Documents\\INSPER\\Programas Insper\\AnacondaDownload\\lib\\site-packages\\pandas\\io\\parsers.py\u001b[0m in \u001b[0;36m_make_engine\u001b[1;34m(self, engine)\u001b[0m\n\u001b[0;32m   1047\u001b[0m     \u001b[1;32mdef\u001b[0m \u001b[0m_make_engine\u001b[0m\u001b[1;33m(\u001b[0m\u001b[0mself\u001b[0m\u001b[1;33m,\u001b[0m \u001b[0mengine\u001b[0m\u001b[1;33m=\u001b[0m\u001b[1;34m'c'\u001b[0m\u001b[1;33m)\u001b[0m\u001b[1;33m:\u001b[0m\u001b[1;33m\u001b[0m\u001b[0m\n\u001b[0;32m   1048\u001b[0m         \u001b[1;32mif\u001b[0m \u001b[0mengine\u001b[0m \u001b[1;33m==\u001b[0m \u001b[1;34m'c'\u001b[0m\u001b[1;33m:\u001b[0m\u001b[1;33m\u001b[0m\u001b[0m\n\u001b[1;32m-> 1049\u001b[1;33m             \u001b[0mself\u001b[0m\u001b[1;33m.\u001b[0m\u001b[0m_engine\u001b[0m \u001b[1;33m=\u001b[0m \u001b[0mCParserWrapper\u001b[0m\u001b[1;33m(\u001b[0m\u001b[0mself\u001b[0m\u001b[1;33m.\u001b[0m\u001b[0mf\u001b[0m\u001b[1;33m,\u001b[0m \u001b[1;33m**\u001b[0m\u001b[0mself\u001b[0m\u001b[1;33m.\u001b[0m\u001b[0moptions\u001b[0m\u001b[1;33m)\u001b[0m\u001b[1;33m\u001b[0m\u001b[0m\n\u001b[0m\u001b[0;32m   1050\u001b[0m         \u001b[1;32melse\u001b[0m\u001b[1;33m:\u001b[0m\u001b[1;33m\u001b[0m\u001b[0m\n\u001b[0;32m   1051\u001b[0m             \u001b[1;32mif\u001b[0m \u001b[0mengine\u001b[0m \u001b[1;33m==\u001b[0m \u001b[1;34m'python'\u001b[0m\u001b[1;33m:\u001b[0m\u001b[1;33m\u001b[0m\u001b[0m\n",
      "\u001b[1;32m~\\Documents\\INSPER\\Programas Insper\\AnacondaDownload\\lib\\site-packages\\pandas\\io\\parsers.py\u001b[0m in \u001b[0;36m__init__\u001b[1;34m(self, src, **kwds)\u001b[0m\n\u001b[0;32m   1693\u001b[0m         \u001b[0mkwds\u001b[0m\u001b[1;33m[\u001b[0m\u001b[1;34m'allow_leading_cols'\u001b[0m\u001b[1;33m]\u001b[0m \u001b[1;33m=\u001b[0m \u001b[0mself\u001b[0m\u001b[1;33m.\u001b[0m\u001b[0mindex_col\u001b[0m \u001b[1;32mis\u001b[0m \u001b[1;32mnot\u001b[0m \u001b[1;32mFalse\u001b[0m\u001b[1;33m\u001b[0m\u001b[0m\n\u001b[0;32m   1694\u001b[0m \u001b[1;33m\u001b[0m\u001b[0m\n\u001b[1;32m-> 1695\u001b[1;33m         \u001b[0mself\u001b[0m\u001b[1;33m.\u001b[0m\u001b[0m_reader\u001b[0m \u001b[1;33m=\u001b[0m \u001b[0mparsers\u001b[0m\u001b[1;33m.\u001b[0m\u001b[0mTextReader\u001b[0m\u001b[1;33m(\u001b[0m\u001b[0msrc\u001b[0m\u001b[1;33m,\u001b[0m \u001b[1;33m**\u001b[0m\u001b[0mkwds\u001b[0m\u001b[1;33m)\u001b[0m\u001b[1;33m\u001b[0m\u001b[0m\n\u001b[0m\u001b[0;32m   1696\u001b[0m \u001b[1;33m\u001b[0m\u001b[0m\n\u001b[0;32m   1697\u001b[0m         \u001b[1;31m# XXX\u001b[0m\u001b[1;33m\u001b[0m\u001b[1;33m\u001b[0m\u001b[0m\n",
      "\u001b[1;32mpandas/_libs/parsers.pyx\u001b[0m in \u001b[0;36mpandas._libs.parsers.TextReader.__cinit__\u001b[1;34m()\u001b[0m\n",
      "\u001b[1;32mpandas/_libs/parsers.pyx\u001b[0m in \u001b[0;36mpandas._libs.parsers.TextReader._setup_parser_source\u001b[1;34m()\u001b[0m\n",
      "\u001b[1;31mFileNotFoundError\u001b[0m: File b'PES2015.csv' does not exist"
     ]
    }
   ],
   "source": [
    "#Se usar o arquivo descompactado\n",
    "dados = pd.read_csv('PES2015.csv',sep=',')\n",
    "dados\n",
    "#Se usar o arquivo compactado como está no dropbox púbico\n",
    "#pd.read_csv('PES2015csv.zip', compression='zip', header=0, sep=',', quotechar='\"')"
   ]
  },
  {
   "cell_type": "code",
   "execution_count": 83,
   "metadata": {
    "scrolled": true
   },
   "outputs": [
    {
     "data": {
      "text/html": [
       "<div>\n",
       "<style scoped>\n",
       "    .dataframe tbody tr th:only-of-type {\n",
       "        vertical-align: middle;\n",
       "    }\n",
       "\n",
       "    .dataframe tbody tr th {\n",
       "        vertical-align: top;\n",
       "    }\n",
       "\n",
       "    .dataframe thead th {\n",
       "        text-align: right;\n",
       "    }\n",
       "</style>\n",
       "<table border=\"1\" class=\"dataframe\">\n",
       "  <thead>\n",
       "    <tr style=\"text-align: right;\">\n",
       "      <th></th>\n",
       "      <th>ESTADO</th>\n",
       "      <th>SEXO</th>\n",
       "      <th>IDADE</th>\n",
       "      <th>CONDICAO</th>\n",
       "      <th>ALFABETIZACAO</th>\n",
       "      <th>CARTEIRA</th>\n",
       "      <th>PAGAMENTO</th>\n",
       "      <th>ESTABELECIMENTO</th>\n",
       "      <th>T_PREVIDENCIA</th>\n",
       "      <th>TRABALHO</th>\n",
       "      <th>SALARIO</th>\n",
       "      <th>ESTUDO</th>\n",
       "    </tr>\n",
       "  </thead>\n",
       "  <tbody>\n",
       "    <tr>\n",
       "      <th>0</th>\n",
       "      <td>11</td>\n",
       "      <td>2</td>\n",
       "      <td>23</td>\n",
       "      <td>1</td>\n",
       "      <td>1</td>\n",
       "      <td>4.0</td>\n",
       "      <td>1.0</td>\n",
       "      <td>1.0</td>\n",
       "      <td>NaN</td>\n",
       "      <td>NaN</td>\n",
       "      <td>4.0</td>\n",
       "      <td>5</td>\n",
       "    </tr>\n",
       "    <tr>\n",
       "      <th>1</th>\n",
       "      <td>11</td>\n",
       "      <td>4</td>\n",
       "      <td>23</td>\n",
       "      <td>1</td>\n",
       "      <td>1</td>\n",
       "      <td>2.0</td>\n",
       "      <td>1.0</td>\n",
       "      <td>1.0</td>\n",
       "      <td>2.0</td>\n",
       "      <td>NaN</td>\n",
       "      <td>4.0</td>\n",
       "      <td>5</td>\n",
       "    </tr>\n",
       "    <tr>\n",
       "      <th>2</th>\n",
       "      <td>11</td>\n",
       "      <td>4</td>\n",
       "      <td>35</td>\n",
       "      <td>1</td>\n",
       "      <td>1</td>\n",
       "      <td>4.0</td>\n",
       "      <td>1.0</td>\n",
       "      <td>1.0</td>\n",
       "      <td>2.0</td>\n",
       "      <td>NaN</td>\n",
       "      <td>4.0</td>\n",
       "      <td>6</td>\n",
       "    </tr>\n",
       "    <tr>\n",
       "      <th>3</th>\n",
       "      <td>11</td>\n",
       "      <td>2</td>\n",
       "      <td>34</td>\n",
       "      <td>2</td>\n",
       "      <td>1</td>\n",
       "      <td>NaN</td>\n",
       "      <td>1.0</td>\n",
       "      <td>3.0</td>\n",
       "      <td>NaN</td>\n",
       "      <td>NaN</td>\n",
       "      <td>4.0</td>\n",
       "      <td>7</td>\n",
       "    </tr>\n",
       "    <tr>\n",
       "      <th>4</th>\n",
       "      <td>11</td>\n",
       "      <td>4</td>\n",
       "      <td>11</td>\n",
       "      <td>3</td>\n",
       "      <td>1</td>\n",
       "      <td>NaN</td>\n",
       "      <td>NaN</td>\n",
       "      <td>NaN</td>\n",
       "      <td>NaN</td>\n",
       "      <td>NaN</td>\n",
       "      <td>4.0</td>\n",
       "      <td>2</td>\n",
       "    </tr>\n",
       "  </tbody>\n",
       "</table>\n",
       "</div>"
      ],
      "text/plain": [
       "   ESTADO  SEXO  IDADE  CONDICAO  ALFABETIZACAO  CARTEIRA  PAGAMENTO  \\\n",
       "0      11     2     23         1              1       4.0        1.0   \n",
       "1      11     4     23         1              1       2.0        1.0   \n",
       "2      11     4     35         1              1       4.0        1.0   \n",
       "3      11     2     34         2              1       NaN        1.0   \n",
       "4      11     4     11         3              1       NaN        NaN   \n",
       "\n",
       "   ESTABELECIMENTO  T_PREVIDENCIA  TRABALHO  SALARIO  ESTUDO  \n",
       "0              1.0            NaN       NaN      4.0       5  \n",
       "1              1.0            2.0       NaN      4.0       5  \n",
       "2              1.0            2.0       NaN      4.0       6  \n",
       "3              3.0            NaN       NaN      4.0       7  \n",
       "4              NaN            NaN       NaN      4.0       2  "
      ]
     },
     "execution_count": 83,
     "metadata": {},
     "output_type": "execute_result"
    }
   ],
   "source": [
    "_dados = dados[['UF', 'V0302','V8005', 'V0402', 'V0601', 'V9042', 'V9531', 'V9054',\n",
    "                'V9060','V9077', 'V4743', 'V4745']]\n",
    "\n",
    "A = _dados.rename(index = str, columns = {'UF': \"ESTADO\"})\n",
    "B = A.rename(index = str, columns = {'V0302': \"SEXO\"})\n",
    "C = B.rename(index = str, columns = {'V8005': \"IDADE\"})\n",
    "D = C.rename(index = str, columns = {'V0402': \"CONDICAO\"})\n",
    "E = D.rename(index = str, columns = {'V0601': \"ALFABETIZACAO\"})\n",
    "F = E.rename(index = str, columns = {'V9042': \"CARTEIRA\"})\n",
    "G = F.rename(index = str, columns = {'V9531': \"PAGAMENTO\"})\n",
    "H = G.rename(index = str, columns = {'V9054': \"ESTABELECIMENTO\"})\n",
    "I = H.rename(index = str, columns = {'V9060': \"T_PREVIDENCIA\"})\n",
    "J = I.rename(index = str, columns = {'V9077': \"TRABALHO\"})\n",
    "M = J.rename(index = str, columns = {'V4743': \"SALARIO\"})\n",
    "N = M.rename(index = str, columns = {'V4745': \"ESTUDO\"})\n",
    "\n",
    "N.head()"
   ]
  },
  {
   "cell_type": "code",
   "execution_count": 84,
   "metadata": {
    "scrolled": true
   },
   "outputs": [
    {
     "name": "stderr",
     "output_type": "stream",
     "text": [
      "C:\\Users\\Gabriel Miras\\Documents\\INSPER\\Programas Insper\\AnacondaDownload\\lib\\site-packages\\pandas\\core\\generic.py:3643: SettingWithCopyWarning: \n",
      "A value is trying to be set on a copy of a slice from a DataFrame.\n",
      "Try using .loc[row_indexer,col_indexer] = value instead\n",
      "\n",
      "See the caveats in the documentation: http://pandas.pydata.org/pandas-docs/stable/indexing.html#indexing-view-versus-copy\n",
      "  self[name] = value\n",
      "C:\\Users\\Gabriel Miras\\Documents\\INSPER\\Programas Insper\\AnacondaDownload\\lib\\site-packages\\pandas\\core\\indexing.py:357: SettingWithCopyWarning: \n",
      "A value is trying to be set on a copy of a slice from a DataFrame.\n",
      "Try using .loc[row_indexer,col_indexer] = value instead\n",
      "\n",
      "See the caveats in the documentation: http://pandas.pydata.org/pandas-docs/stable/indexing.html#indexing-view-versus-copy\n",
      "  self.obj[key] = _infer_fill_value(value)\n",
      "C:\\Users\\Gabriel Miras\\Documents\\INSPER\\Programas Insper\\AnacondaDownload\\lib\\site-packages\\pandas\\core\\indexing.py:537: SettingWithCopyWarning: \n",
      "A value is trying to be set on a copy of a slice from a DataFrame.\n",
      "Try using .loc[row_indexer,col_indexer] = value instead\n",
      "\n",
      "See the caveats in the documentation: http://pandas.pydata.org/pandas-docs/stable/indexing.html#indexing-view-versus-copy\n",
      "  self.obj[item] = s\n"
     ]
    },
    {
     "data": {
      "text/html": [
       "<div>\n",
       "<style scoped>\n",
       "    .dataframe tbody tr th:only-of-type {\n",
       "        vertical-align: middle;\n",
       "    }\n",
       "\n",
       "    .dataframe tbody tr th {\n",
       "        vertical-align: top;\n",
       "    }\n",
       "\n",
       "    .dataframe thead th {\n",
       "        text-align: right;\n",
       "    }\n",
       "</style>\n",
       "<table border=\"1\" class=\"dataframe\">\n",
       "  <thead>\n",
       "    <tr style=\"text-align: right;\">\n",
       "      <th></th>\n",
       "      <th>ESTADO</th>\n",
       "      <th>SEXO</th>\n",
       "      <th>IDADE</th>\n",
       "      <th>CONDICAO</th>\n",
       "      <th>ALFABETIZACAO</th>\n",
       "      <th>CARTEIRA</th>\n",
       "      <th>PAGAMENTO</th>\n",
       "      <th>ESTABELECIMENTO</th>\n",
       "      <th>T_PREVIDENCIA</th>\n",
       "      <th>TRABALHO</th>\n",
       "      <th>SALARIO</th>\n",
       "      <th>ESTUDO</th>\n",
       "      <th>REGIAO</th>\n",
       "    </tr>\n",
       "  </thead>\n",
       "  <tbody>\n",
       "    <tr>\n",
       "      <th>9</th>\n",
       "      <td>11</td>\n",
       "      <td>Feminino</td>\n",
       "      <td>81</td>\n",
       "      <td>Outro</td>\n",
       "      <td>Sim</td>\n",
       "      <td>NaN</td>\n",
       "      <td>NaN</td>\n",
       "      <td>NaN</td>\n",
       "      <td>NaN</td>\n",
       "      <td>NaN</td>\n",
       "      <td>mais de 3 ate 5 de salario</td>\n",
       "      <td>Fund. Incomp ou equivalente</td>\n",
       "      <td>Norte</td>\n",
       "    </tr>\n",
       "    <tr>\n",
       "      <th>10</th>\n",
       "      <td>11</td>\n",
       "      <td>Feminino</td>\n",
       "      <td>71</td>\n",
       "      <td>Pessoa de referencia</td>\n",
       "      <td>Sim</td>\n",
       "      <td>NaN</td>\n",
       "      <td>NaN</td>\n",
       "      <td>NaN</td>\n",
       "      <td>NaN</td>\n",
       "      <td>NaN</td>\n",
       "      <td>mais de 2 ate 3 de salario</td>\n",
       "      <td>Fund. Incomp ou equivalente</td>\n",
       "      <td>Norte</td>\n",
       "    </tr>\n",
       "    <tr>\n",
       "      <th>118</th>\n",
       "      <td>11</td>\n",
       "      <td>Masculino</td>\n",
       "      <td>71</td>\n",
       "      <td>Pessoa de referencia</td>\n",
       "      <td>Nao</td>\n",
       "      <td>NaN</td>\n",
       "      <td>NaN</td>\n",
       "      <td>NaN</td>\n",
       "      <td>NaN</td>\n",
       "      <td>NaN</td>\n",
       "      <td>mais de 1/2 ate 1 de salario</td>\n",
       "      <td>Sem instrucao</td>\n",
       "      <td>Norte</td>\n",
       "    </tr>\n",
       "    <tr>\n",
       "      <th>131</th>\n",
       "      <td>11</td>\n",
       "      <td>Masculino</td>\n",
       "      <td>73</td>\n",
       "      <td>Pessoa de referencia</td>\n",
       "      <td>Sim</td>\n",
       "      <td>NaN</td>\n",
       "      <td>NaN</td>\n",
       "      <td>NaN</td>\n",
       "      <td>NaN</td>\n",
       "      <td>NaN</td>\n",
       "      <td>mais de 1 ate 2 de salario</td>\n",
       "      <td>Fund. Incomp ou equivalente</td>\n",
       "      <td>Norte</td>\n",
       "    </tr>\n",
       "    <tr>\n",
       "      <th>132</th>\n",
       "      <td>11</td>\n",
       "      <td>Feminino</td>\n",
       "      <td>71</td>\n",
       "      <td>Conjuge</td>\n",
       "      <td>Sim</td>\n",
       "      <td>NaN</td>\n",
       "      <td>NaN</td>\n",
       "      <td>NaN</td>\n",
       "      <td>NaN</td>\n",
       "      <td>NaN</td>\n",
       "      <td>mais de 1 ate 2 de salario</td>\n",
       "      <td>Fund. Incomp ou equivalente</td>\n",
       "      <td>Norte</td>\n",
       "    </tr>\n",
       "    <tr>\n",
       "      <th>182</th>\n",
       "      <td>11</td>\n",
       "      <td>Masculino</td>\n",
       "      <td>79</td>\n",
       "      <td>Pessoa de referencia</td>\n",
       "      <td>Sim</td>\n",
       "      <td>NaN</td>\n",
       "      <td>NaN</td>\n",
       "      <td>NaN</td>\n",
       "      <td>NaN</td>\n",
       "      <td>NaN</td>\n",
       "      <td>mais de 1/4 ate 1/2 de salario</td>\n",
       "      <td>Fund. Incomp ou equivalente</td>\n",
       "      <td>Norte</td>\n",
       "    </tr>\n",
       "    <tr>\n",
       "      <th>222</th>\n",
       "      <td>11</td>\n",
       "      <td>Feminino</td>\n",
       "      <td>91</td>\n",
       "      <td>Outro</td>\n",
       "      <td>Sim</td>\n",
       "      <td>NaN</td>\n",
       "      <td>NaN</td>\n",
       "      <td>NaN</td>\n",
       "      <td>NaN</td>\n",
       "      <td>NaN</td>\n",
       "      <td>mais de 1 ate 2 de salario</td>\n",
       "      <td>Fund. Incomp ou equivalente</td>\n",
       "      <td>Norte</td>\n",
       "    </tr>\n",
       "    <tr>\n",
       "      <th>241</th>\n",
       "      <td>11</td>\n",
       "      <td>Feminino</td>\n",
       "      <td>72</td>\n",
       "      <td>Outro</td>\n",
       "      <td>Nao</td>\n",
       "      <td>NaN</td>\n",
       "      <td>NaN</td>\n",
       "      <td>NaN</td>\n",
       "      <td>NaN</td>\n",
       "      <td>NaN</td>\n",
       "      <td>mais de 1/2 ate 1 de salario</td>\n",
       "      <td>Sem instrucao</td>\n",
       "      <td>Norte</td>\n",
       "    </tr>\n",
       "    <tr>\n",
       "      <th>248</th>\n",
       "      <td>11</td>\n",
       "      <td>Feminino</td>\n",
       "      <td>71</td>\n",
       "      <td>Outro</td>\n",
       "      <td>Sim</td>\n",
       "      <td>NaN</td>\n",
       "      <td>NaN</td>\n",
       "      <td>NaN</td>\n",
       "      <td>NaN</td>\n",
       "      <td>NaN</td>\n",
       "      <td>mais de 1/4 ate 1/2 de salario</td>\n",
       "      <td>Fund. Incomp ou equivalente</td>\n",
       "      <td>Norte</td>\n",
       "    </tr>\n",
       "    <tr>\n",
       "      <th>285</th>\n",
       "      <td>11</td>\n",
       "      <td>Masculino</td>\n",
       "      <td>73</td>\n",
       "      <td>Pessoa de referencia</td>\n",
       "      <td>Sim</td>\n",
       "      <td>NaN</td>\n",
       "      <td>NaN</td>\n",
       "      <td>NaN</td>\n",
       "      <td>NaN</td>\n",
       "      <td>NaN</td>\n",
       "      <td>mais de 1/2 ate 1 de salario</td>\n",
       "      <td>Sem instrucao</td>\n",
       "      <td>Norte</td>\n",
       "    </tr>\n",
       "  </tbody>\n",
       "</table>\n",
       "</div>"
      ],
      "text/plain": [
       "     ESTADO       SEXO  IDADE              CONDICAO ALFABETIZACAO CARTEIRA  \\\n",
       "9        11   Feminino     81                 Outro           Sim      NaN   \n",
       "10       11   Feminino     71  Pessoa de referencia           Sim      NaN   \n",
       "118      11  Masculino     71  Pessoa de referencia           Nao      NaN   \n",
       "131      11  Masculino     73  Pessoa de referencia           Sim      NaN   \n",
       "132      11   Feminino     71               Conjuge           Sim      NaN   \n",
       "182      11  Masculino     79  Pessoa de referencia           Sim      NaN   \n",
       "222      11   Feminino     91                 Outro           Sim      NaN   \n",
       "241      11   Feminino     72                 Outro           Nao      NaN   \n",
       "248      11   Feminino     71                 Outro           Sim      NaN   \n",
       "285      11  Masculino     73  Pessoa de referencia           Sim      NaN   \n",
       "\n",
       "    PAGAMENTO ESTABELECIMENTO T_PREVIDENCIA TRABALHO  \\\n",
       "9         NaN             NaN           NaN      NaN   \n",
       "10        NaN             NaN           NaN      NaN   \n",
       "118       NaN             NaN           NaN      NaN   \n",
       "131       NaN             NaN           NaN      NaN   \n",
       "132       NaN             NaN           NaN      NaN   \n",
       "182       NaN             NaN           NaN      NaN   \n",
       "222       NaN             NaN           NaN      NaN   \n",
       "241       NaN             NaN           NaN      NaN   \n",
       "248       NaN             NaN           NaN      NaN   \n",
       "285       NaN             NaN           NaN      NaN   \n",
       "\n",
       "                            SALARIO                       ESTUDO REGIAO  \n",
       "9        mais de 3 ate 5 de salario  Fund. Incomp ou equivalente  Norte  \n",
       "10       mais de 2 ate 3 de salario  Fund. Incomp ou equivalente  Norte  \n",
       "118    mais de 1/2 ate 1 de salario                Sem instrucao  Norte  \n",
       "131      mais de 1 ate 2 de salario  Fund. Incomp ou equivalente  Norte  \n",
       "132      mais de 1 ate 2 de salario  Fund. Incomp ou equivalente  Norte  \n",
       "182  mais de 1/4 ate 1/2 de salario  Fund. Incomp ou equivalente  Norte  \n",
       "222      mais de 1 ate 2 de salario  Fund. Incomp ou equivalente  Norte  \n",
       "241    mais de 1/2 ate 1 de salario                Sem instrucao  Norte  \n",
       "248  mais de 1/4 ate 1/2 de salario  Fund. Incomp ou equivalente  Norte  \n",
       "285    mais de 1/2 ate 1 de salario                Sem instrucao  Norte  "
      ]
     },
     "execution_count": 84,
     "metadata": {},
     "output_type": "execute_result"
    }
   ],
   "source": [
    "P = N[N['IDADE']>= 70]\n",
    "\n",
    "P.SEXO = P.SEXO.astype('category')\n",
    "P.SEXO.cat.categories = (['Masculino', 'Feminino'])\n",
    "\n",
    "P.CONDICAO = P.CONDICAO.astype('category')\n",
    "P.CONDICAO.cat.categories = (['Pessoa de referencia', 'Conjuge', 'Filho', 'Outro', 'Agregado', 'Pensionista', 'Empregado domestico', 'Parente do empregado domestico'])\n",
    "\n",
    "P.ALFABETIZACAO = P.ALFABETIZACAO.astype('category')\n",
    "P.ALFABETIZACAO.cat.categories = (['Sim', 'Nao'])\n",
    "\n",
    "P.CARTEIRA = P.CARTEIRA.astype('category')\n",
    "P.CARTEIRA.cat.categories = (['Sim', 'Nao'])\n",
    "\n",
    "P.PAGAMENTO = P.PAGAMENTO.astype('category')\n",
    "P.PAGAMENTO.cat.categories = (['Existia rendimento em dinheiro'])\n",
    "\n",
    "P.ESTABELECIMENTO = P.ESTABELECIMENTO.astype('category')\n",
    "P.ESTABELECIMENTO.cat.categories = (['Lojas, oficina, etc', 'fazenda, sitio etc', 'domicilio que trabalha',\n",
    "                                     'domicilio de patrao etc', 'local designado pelo cliente etc', 'em veiculo motor', 'em via publica', 'outros' ])\n",
    "\n",
    "P.T_PREVIDENCIA = P.T_PREVIDENCIA.astype('category')\n",
    "P.T_PREVIDENCIA.cat.categories = (['Federal', 'Municipal', 'Estadual'])\n",
    "\n",
    "P.TRABALHO = P.TRABALHO.astype('category')\n",
    "P.TRABALHO.cat.categories = (['Empregado', 'Trabalhador domestico', 'Conta Propria', 'Empregador', 'Trabalhador nao remunerado na unidade domiciliar',\n",
    "                             'outro trabalho nao remunerado', 'trabalhador no proprio negocio'])\n",
    "\n",
    "P.SALARIO = P.SALARIO.astype('category')\n",
    "P.SALARIO.cat.categories = (['Sem rendimento', 'Ate 1/4 de salario', 'mais de 1/4 ate 1/2 de salario', 'mais de 1/2 ate 1 de salario',\n",
    "                               'mais de 1 ate 2 de salario', 'mais de 2 ate 3 de salario', 'mais de 3 ate 5 de salario', 'mais de 5 de salario',\n",
    "                                'sem declaracao'])\n",
    "\n",
    "P.ESTUDO = P.ESTUDO.astype('category')\n",
    "P.ESTUDO.cat.categories = (['Sem instrucao', 'Fund. Incomp ou equivalente', 'Fund. compl ou equivalente', 'Med Incomp ou equivalente',\n",
    "                            'Med compl ou equilavente', 'Sup Incompl ou equivalente', 'Superior completo', 'nao determinado'])\n",
    "\n",
    "P.loc[(P.ESTADO>10)&(P.ESTADO<20), 'REGIAO'] = \"Norte\"\n",
    "P.loc[(P.ESTADO>20)&(P.ESTADO<30), 'REGIAO'] = \"Nordeste\"\n",
    "P.loc[(P.ESTADO>30)&(P.ESTADO<40), 'REGIAO'] = \"Sudeste\"\n",
    "P.loc[(P.ESTADO>40)&(P.ESTADO<=50), 'REGIAO'] = \"Sul\"\n",
    "P.loc[(P.ESTADO>=50)&(P.ESTADO<60), 'REGIAO'] = \"Centro-Oeste\"\n",
    "\n",
    "P.head(10)"
   ]
  },
  {
   "cell_type": "markdown",
   "metadata": {},
   "source": [
    "___\n",
    "## Análise e Resultados"
   ]
  },
  {
   "cell_type": "code",
   "execution_count": 85,
   "metadata": {},
   "outputs": [
    {
     "data": {
      "text/plain": [
       "mais de 1/2 ate 1 de salario      8353\n",
       "mais de 1 ate 2 de salario        6485\n",
       "mais de 1/4 ate 1/2 de salario    1814\n",
       "mais de 2 ate 3 de salario        1762\n",
       "mais de 3 ate 5 de salario        1295\n",
       "mais de 5 de salario              1102\n",
       "sem declaracao                     522\n",
       "Ate 1/4 de salario                 178\n",
       "Sem rendimento                      21\n",
       "Name: SALARIO, dtype: int64"
      ]
     },
     "execution_count": 85,
     "metadata": {},
     "output_type": "execute_result"
    }
   ],
   "source": [
    "P.SALARIO.value_counts()"
   ]
  },
  {
   "cell_type": "code",
   "execution_count": 86,
   "metadata": {},
   "outputs": [
    {
     "data": {
      "text/html": [
       "<div>\n",
       "<style scoped>\n",
       "    .dataframe tbody tr th:only-of-type {\n",
       "        vertical-align: middle;\n",
       "    }\n",
       "\n",
       "    .dataframe tbody tr th {\n",
       "        vertical-align: top;\n",
       "    }\n",
       "\n",
       "    .dataframe thead th {\n",
       "        text-align: right;\n",
       "    }\n",
       "</style>\n",
       "<table border=\"1\" class=\"dataframe\">\n",
       "  <thead>\n",
       "    <tr style=\"text-align: right;\">\n",
       "      <th>SALARIO</th>\n",
       "      <th>Sem rendimento</th>\n",
       "      <th>Ate 1/4 de salario</th>\n",
       "      <th>mais de 1/4 ate 1/2 de salario</th>\n",
       "      <th>mais de 1/2 ate 1 de salario</th>\n",
       "      <th>mais de 1 ate 2 de salario</th>\n",
       "      <th>mais de 2 ate 3 de salario</th>\n",
       "      <th>mais de 3 ate 5 de salario</th>\n",
       "      <th>mais de 5 de salario</th>\n",
       "      <th>sem declaracao</th>\n",
       "    </tr>\n",
       "    <tr>\n",
       "      <th>REGIAO</th>\n",
       "      <th></th>\n",
       "      <th></th>\n",
       "      <th></th>\n",
       "      <th></th>\n",
       "      <th></th>\n",
       "      <th></th>\n",
       "      <th></th>\n",
       "      <th></th>\n",
       "      <th></th>\n",
       "    </tr>\n",
       "  </thead>\n",
       "  <tbody>\n",
       "    <tr>\n",
       "      <th>Centro-Oeste</th>\n",
       "      <td>0.159405</td>\n",
       "      <td>0.265675</td>\n",
       "      <td>5.951116</td>\n",
       "      <td>36.291180</td>\n",
       "      <td>31.774708</td>\n",
       "      <td>8.554729</td>\n",
       "      <td>7.013815</td>\n",
       "      <td>7.757705</td>\n",
       "      <td>2.231668</td>\n",
       "    </tr>\n",
       "    <tr>\n",
       "      <th>Nordeste</th>\n",
       "      <td>0.080347</td>\n",
       "      <td>1.398040</td>\n",
       "      <td>12.453800</td>\n",
       "      <td>49.718785</td>\n",
       "      <td>23.589908</td>\n",
       "      <td>4.242327</td>\n",
       "      <td>3.663828</td>\n",
       "      <td>3.197815</td>\n",
       "      <td>1.655150</td>\n",
       "    </tr>\n",
       "    <tr>\n",
       "      <th>Norte</th>\n",
       "      <td>0.000000</td>\n",
       "      <td>1.660440</td>\n",
       "      <td>13.823163</td>\n",
       "      <td>46.284765</td>\n",
       "      <td>25.487754</td>\n",
       "      <td>5.479452</td>\n",
       "      <td>3.735990</td>\n",
       "      <td>1.826484</td>\n",
       "      <td>1.701951</td>\n",
       "    </tr>\n",
       "    <tr>\n",
       "      <th>Sudeste</th>\n",
       "      <td>0.150458</td>\n",
       "      <td>0.533443</td>\n",
       "      <td>6.127753</td>\n",
       "      <td>31.664615</td>\n",
       "      <td>33.401723</td>\n",
       "      <td>10.764601</td>\n",
       "      <td>7.427165</td>\n",
       "      <td>6.579127</td>\n",
       "      <td>3.351115</td>\n",
       "    </tr>\n",
       "    <tr>\n",
       "      <th>Sul</th>\n",
       "      <td>0.053952</td>\n",
       "      <td>0.188832</td>\n",
       "      <td>3.938495</td>\n",
       "      <td>30.914486</td>\n",
       "      <td>36.768276</td>\n",
       "      <td>11.275964</td>\n",
       "      <td>8.146749</td>\n",
       "      <td>6.258430</td>\n",
       "      <td>2.454815</td>\n",
       "    </tr>\n",
       "  </tbody>\n",
       "</table>\n",
       "</div>"
      ],
      "text/plain": [
       "SALARIO       Sem rendimento  Ate 1/4 de salario  \\\n",
       "REGIAO                                             \n",
       "Centro-Oeste        0.159405            0.265675   \n",
       "Nordeste            0.080347            1.398040   \n",
       "Norte               0.000000            1.660440   \n",
       "Sudeste             0.150458            0.533443   \n",
       "Sul                 0.053952            0.188832   \n",
       "\n",
       "SALARIO       mais de 1/4 ate 1/2 de salario  mais de 1/2 ate 1 de salario  \\\n",
       "REGIAO                                                                       \n",
       "Centro-Oeste                        5.951116                     36.291180   \n",
       "Nordeste                           12.453800                     49.718785   \n",
       "Norte                              13.823163                     46.284765   \n",
       "Sudeste                             6.127753                     31.664615   \n",
       "Sul                                 3.938495                     30.914486   \n",
       "\n",
       "SALARIO       mais de 1 ate 2 de salario  mais de 2 ate 3 de salario  \\\n",
       "REGIAO                                                                 \n",
       "Centro-Oeste                   31.774708                    8.554729   \n",
       "Nordeste                       23.589908                    4.242327   \n",
       "Norte                          25.487754                    5.479452   \n",
       "Sudeste                        33.401723                   10.764601   \n",
       "Sul                            36.768276                   11.275964   \n",
       "\n",
       "SALARIO       mais de 3 ate 5 de salario  mais de 5 de salario  sem declaracao  \n",
       "REGIAO                                                                          \n",
       "Centro-Oeste                    7.013815              7.757705        2.231668  \n",
       "Nordeste                        3.663828              3.197815        1.655150  \n",
       "Norte                           3.735990              1.826484        1.701951  \n",
       "Sudeste                         7.427165              6.579127        3.351115  \n",
       "Sul                             8.146749              6.258430        2.454815  "
      ]
     },
     "execution_count": 86,
     "metadata": {},
     "output_type": "execute_result"
    }
   ],
   "source": [
    "CT = pd.crosstab(P.REGIAO, P.SALARIO, normalize = 'index')*100\n",
    "CT"
   ]
  },
  {
   "cell_type": "code",
   "execution_count": 87,
   "metadata": {},
   "outputs": [
    {
     "name": "stderr",
     "output_type": "stream",
     "text": [
      "C:\\Users\\Gabriel Miras\\Documents\\INSPER\\Programas Insper\\AnacondaDownload\\lib\\site-packages\\matplotlib\\cbook\\deprecation.py:106: MatplotlibDeprecationWarning: Adding an axes using the same arguments as a previous axes currently reuses the earlier instance.  In a future version, a new instance will always be created and returned.  Meanwhile, this warning can be suppressed, and the future behavior ensured, by passing a unique label to each axes instance.\n",
      "  warnings.warn(message, mplDeprecation, stacklevel=1)\n"
     ]
    },
    {
     "data": {
      "text/plain": [
       "<matplotlib.legend.Legend at 0x24dbd42bdd8>"
      ]
     },
     "execution_count": 87,
     "metadata": {},
     "output_type": "execute_result"
    },
    {
     "data": {
      "image/png": "[encoded data removed]",
      "text/plain": [
       "<matplotlib.figure.Figure at 0x24dbd82cf28>"
      ]
     },
     "metadata": {},
     "output_type": "display_data"
    }
   ],
   "source": [
    "plot1 = CT.T.plot(kind='bar',stacked=True, title='SALARIO',figsize=(8,6))\n",
    "plt.ylabel('Freq.Relativa (em %)') #nao sei se é freq relativa\n",
    "\n",
    "ax = plt.subplot(111)\n",
    "box = ax.get_position()\n",
    "ax.set_position([box.x0, box.y0, box.width * 0.8, box.height])\n",
    "ax.legend(loc='center left', bbox_to_anchor=(1, 0.5))"
   ]
  },
  {
   "cell_type": "code",
   "execution_count": 88,
   "metadata": {},
   "outputs": [
    {
     "data": {
      "text/plain": [
       "Federal      404\n",
       "Estadual      17\n",
       "Municipal     13\n",
       "Name: T_PREVIDENCIA, dtype: int64"
      ]
     },
     "execution_count": 88,
     "metadata": {},
     "output_type": "execute_result"
    }
   ],
   "source": [
    "P.T_PREVIDENCIA.value_counts()"
   ]
  },
  {
   "cell_type": "code",
   "execution_count": 89,
   "metadata": {},
   "outputs": [
    {
     "data": {
      "text/html": [
       "<div>\n",
       "<style scoped>\n",
       "    .dataframe tbody tr th:only-of-type {\n",
       "        vertical-align: middle;\n",
       "    }\n",
       "\n",
       "    .dataframe tbody tr th {\n",
       "        vertical-align: top;\n",
       "    }\n",
       "\n",
       "    .dataframe thead th {\n",
       "        text-align: right;\n",
       "    }\n",
       "</style>\n",
       "<table border=\"1\" class=\"dataframe\">\n",
       "  <thead>\n",
       "    <tr style=\"text-align: right;\">\n",
       "      <th>T_PREVIDENCIA</th>\n",
       "      <th>Federal</th>\n",
       "      <th>Municipal</th>\n",
       "      <th>Estadual</th>\n",
       "    </tr>\n",
       "    <tr>\n",
       "      <th>REGIAO</th>\n",
       "      <th></th>\n",
       "      <th></th>\n",
       "      <th></th>\n",
       "    </tr>\n",
       "  </thead>\n",
       "  <tbody>\n",
       "    <tr>\n",
       "      <th>Centro-Oeste</th>\n",
       "      <td>90.000000</td>\n",
       "      <td>7.500000</td>\n",
       "      <td>2.500000</td>\n",
       "    </tr>\n",
       "    <tr>\n",
       "      <th>Nordeste</th>\n",
       "      <td>90.540541</td>\n",
       "      <td>2.702703</td>\n",
       "      <td>6.756757</td>\n",
       "    </tr>\n",
       "    <tr>\n",
       "      <th>Norte</th>\n",
       "      <td>84.210526</td>\n",
       "      <td>5.263158</td>\n",
       "      <td>10.526316</td>\n",
       "    </tr>\n",
       "    <tr>\n",
       "      <th>Sudeste</th>\n",
       "      <td>94.705882</td>\n",
       "      <td>2.352941</td>\n",
       "      <td>2.941176</td>\n",
       "    </tr>\n",
       "    <tr>\n",
       "      <th>Sul</th>\n",
       "      <td>96.428571</td>\n",
       "      <td>1.785714</td>\n",
       "      <td>1.785714</td>\n",
       "    </tr>\n",
       "  </tbody>\n",
       "</table>\n",
       "</div>"
      ],
      "text/plain": [
       "T_PREVIDENCIA    Federal  Municipal   Estadual\n",
       "REGIAO                                        \n",
       "Centro-Oeste   90.000000   7.500000   2.500000\n",
       "Nordeste       90.540541   2.702703   6.756757\n",
       "Norte          84.210526   5.263158  10.526316\n",
       "Sudeste        94.705882   2.352941   2.941176\n",
       "Sul            96.428571   1.785714   1.785714"
      ]
     },
     "execution_count": 89,
     "metadata": {},
     "output_type": "execute_result"
    }
   ],
   "source": [
    "CT2 = pd.crosstab(P.REGIAO, P.T_PREVIDENCIA, normalize = 'index')*100\n",
    "CT2"
   ]
  },
  {
   "cell_type": "code",
   "execution_count": 90,
   "metadata": {},
   "outputs": [
    {
     "name": "stderr",
     "output_type": "stream",
     "text": [
      "C:\\Users\\Gabriel Miras\\Documents\\INSPER\\Programas Insper\\AnacondaDownload\\lib\\site-packages\\matplotlib\\cbook\\deprecation.py:106: MatplotlibDeprecationWarning: Adding an axes using the same arguments as a previous axes currently reuses the earlier instance.  In a future version, a new instance will always be created and returned.  Meanwhile, this warning can be suppressed, and the future behavior ensured, by passing a unique label to each axes instance.\n",
      "  warnings.warn(message, mplDeprecation, stacklevel=1)\n"
     ]
    },
    {
     "data": {
      "text/plain": [
       "<matplotlib.legend.Legend at 0x24dbd82ce10>"
      ]
     },
     "execution_count": 90,
     "metadata": {},
     "output_type": "execute_result"
    },
    {
     "data": {
      "image/png": "[encoded data removed]",
      "text/plain": [
       "<matplotlib.figure.Figure at 0x24dbd597ac8>"
      ]
     },
     "metadata": {},
     "output_type": "display_data"
    }
   ],
   "source": [
    "plot2 = CT2.T.plot(kind='bar',stacked=True, title='TIPO DE PREVIDENCIA',figsize=(8,6))\n",
    "plt.ylabel('Freq.Relativa (em %)') #nao sei se é freq relativa\n",
    "\n",
    "ax = plt.subplot(111)\n",
    "box = ax.get_position()\n",
    "ax.set_position([box.x0, box.y0, box.width * 0.8, box.height])\n",
    "ax.legend(loc='center left', bbox_to_anchor=(1, 0.5))"
   ]
  },
  {
   "cell_type": "code",
   "execution_count": 91,
   "metadata": {},
   "outputs": [
    {
     "data": {
      "text/plain": [
       "Pessoa de referencia              14038\n",
       "Conjuge                            4215\n",
       "Outro                              3153\n",
       "Agregado                            104\n",
       "Pensionista                          26\n",
       "Filho                                22\n",
       "Empregado domestico                   8\n",
       "Parente do empregado domestico        1\n",
       "Name: CONDICAO, dtype: int64"
      ]
     },
     "execution_count": 91,
     "metadata": {},
     "output_type": "execute_result"
    }
   ],
   "source": [
    "P.CONDICAO.value_counts()"
   ]
  },
  {
   "cell_type": "code",
   "execution_count": 92,
   "metadata": {
    "scrolled": true
   },
   "outputs": [
    {
     "data": {
      "text/html": [
       "<div>\n",
       "<style scoped>\n",
       "    .dataframe tbody tr th:only-of-type {\n",
       "        vertical-align: middle;\n",
       "    }\n",
       "\n",
       "    .dataframe tbody tr th {\n",
       "        vertical-align: top;\n",
       "    }\n",
       "\n",
       "    .dataframe thead th {\n",
       "        text-align: right;\n",
       "    }\n",
       "</style>\n",
       "<table border=\"1\" class=\"dataframe\">\n",
       "  <thead>\n",
       "    <tr style=\"text-align: right;\">\n",
       "      <th>CONDICAO</th>\n",
       "      <th>Pessoa de referencia</th>\n",
       "      <th>Conjuge</th>\n",
       "      <th>Filho</th>\n",
       "      <th>Outro</th>\n",
       "      <th>Agregado</th>\n",
       "      <th>Pensionista</th>\n",
       "      <th>Empregado domestico</th>\n",
       "      <th>Parente do empregado domestico</th>\n",
       "    </tr>\n",
       "    <tr>\n",
       "      <th>REGIAO</th>\n",
       "      <th></th>\n",
       "      <th></th>\n",
       "      <th></th>\n",
       "      <th></th>\n",
       "      <th></th>\n",
       "      <th></th>\n",
       "      <th></th>\n",
       "      <th></th>\n",
       "    </tr>\n",
       "  </thead>\n",
       "  <tbody>\n",
       "    <tr>\n",
       "      <th>Centro-Oeste</th>\n",
       "      <td>65.588547</td>\n",
       "      <td>19.724284</td>\n",
       "      <td>0.053022</td>\n",
       "      <td>13.891835</td>\n",
       "      <td>0.530223</td>\n",
       "      <td>0.159067</td>\n",
       "      <td>0.053022</td>\n",
       "      <td>0.00000</td>\n",
       "    </tr>\n",
       "    <tr>\n",
       "      <th>Nordeste</th>\n",
       "      <td>65.271094</td>\n",
       "      <td>19.249278</td>\n",
       "      <td>0.176452</td>\n",
       "      <td>14.629451</td>\n",
       "      <td>0.497273</td>\n",
       "      <td>0.128329</td>\n",
       "      <td>0.048123</td>\n",
       "      <td>0.00000</td>\n",
       "    </tr>\n",
       "    <tr>\n",
       "      <th>Norte</th>\n",
       "      <td>63.971808</td>\n",
       "      <td>19.029851</td>\n",
       "      <td>0.041459</td>\n",
       "      <td>16.127695</td>\n",
       "      <td>0.704809</td>\n",
       "      <td>0.124378</td>\n",
       "      <td>0.000000</td>\n",
       "      <td>0.00000</td>\n",
       "    </tr>\n",
       "    <tr>\n",
       "      <th>Sudeste</th>\n",
       "      <td>65.424515</td>\n",
       "      <td>19.601420</td>\n",
       "      <td>0.081900</td>\n",
       "      <td>14.359814</td>\n",
       "      <td>0.327600</td>\n",
       "      <td>0.136500</td>\n",
       "      <td>0.054600</td>\n",
       "      <td>0.01365</td>\n",
       "    </tr>\n",
       "    <tr>\n",
       "      <th>Sul</th>\n",
       "      <td>64.599623</td>\n",
       "      <td>20.167161</td>\n",
       "      <td>0.080884</td>\n",
       "      <td>14.505257</td>\n",
       "      <td>0.593152</td>\n",
       "      <td>0.053923</td>\n",
       "      <td>0.000000</td>\n",
       "      <td>0.00000</td>\n",
       "    </tr>\n",
       "  </tbody>\n",
       "</table>\n",
       "</div>"
      ],
      "text/plain": [
       "CONDICAO      Pessoa de referencia    Conjuge     Filho      Outro  Agregado  \\\n",
       "REGIAO                                                                         \n",
       "Centro-Oeste             65.588547  19.724284  0.053022  13.891835  0.530223   \n",
       "Nordeste                 65.271094  19.249278  0.176452  14.629451  0.497273   \n",
       "Norte                    63.971808  19.029851  0.041459  16.127695  0.704809   \n",
       "Sudeste                  65.424515  19.601420  0.081900  14.359814  0.327600   \n",
       "Sul                      64.599623  20.167161  0.080884  14.505257  0.593152   \n",
       "\n",
       "CONDICAO      Pensionista  Empregado domestico  Parente do empregado domestico  \n",
       "REGIAO                                                                          \n",
       "Centro-Oeste     0.159067             0.053022                         0.00000  \n",
       "Nordeste         0.128329             0.048123                         0.00000  \n",
       "Norte            0.124378             0.000000                         0.00000  \n",
       "Sudeste          0.136500             0.054600                         0.01365  \n",
       "Sul              0.053923             0.000000                         0.00000  "
      ]
     },
     "execution_count": 92,
     "metadata": {},
     "output_type": "execute_result"
    }
   ],
   "source": [
    "CT3 = pd.crosstab(P.REGIAO, P.CONDICAO, normalize = 'index')*100\n",
    "CT3"
   ]
  },
  {
   "cell_type": "code",
   "execution_count": 93,
   "metadata": {},
   "outputs": [
    {
     "name": "stderr",
     "output_type": "stream",
     "text": [
      "C:\\Users\\Gabriel Miras\\Documents\\INSPER\\Programas Insper\\AnacondaDownload\\lib\\site-packages\\matplotlib\\cbook\\deprecation.py:106: MatplotlibDeprecationWarning: Adding an axes using the same arguments as a previous axes currently reuses the earlier instance.  In a future version, a new instance will always be created and returned.  Meanwhile, this warning can be suppressed, and the future behavior ensured, by passing a unique label to each axes instance.\n",
      "  warnings.warn(message, mplDeprecation, stacklevel=1)\n"
     ]
    },
    {
     "data": {
      "text/plain": [
       "<matplotlib.legend.Legend at 0x24dbd7aab00>"
      ]
     },
     "execution_count": 93,
     "metadata": {},
     "output_type": "execute_result"
    },
    {
     "data": {
      "image/png": "[encoded data removed]",
      "text/plain": [
       "<matplotlib.figure.Figure at 0x24dbd2af080>"
      ]
     },
     "metadata": {},
     "output_type": "display_data"
    }
   ],
   "source": [
    "plot3 = CT3.T.plot(kind='bar',stacked=True, title='CONDICAO NA FAMILIA' ,figsize=(8,6))\n",
    "plt.ylabel('Freq.Relativa (em %)') #nao sei se é freq relativa\n",
    "\n",
    "ax = plt.subplot(111)\n",
    "box = ax.get_position()\n",
    "ax.set_position([box.x0, box.y0, box.width * 0.8, box.height])\n",
    "ax.legend(loc='center left', bbox_to_anchor=(1, 0.5))"
   ]
  },
  {
   "cell_type": "code",
   "execution_count": 94,
   "metadata": {},
   "outputs": [
    {
     "data": {
      "text/plain": [
       "Fund. Incomp ou equivalente    9571\n",
       "Sem instrucao                  7310\n",
       "Med compl ou equilavente       1813\n",
       "Fund. compl ou equivalente     1313\n",
       "Superior completo              1285\n",
       "Med Incomp ou equivalente       174\n",
       "Sup Incompl ou equivalente       94\n",
       "nao determinado                   7\n",
       "Name: ESTUDO, dtype: int64"
      ]
     },
     "execution_count": 94,
     "metadata": {},
     "output_type": "execute_result"
    }
   ],
   "source": [
    "P.ESTUDO.value_counts()"
   ]
  },
  {
   "cell_type": "code",
   "execution_count": 95,
   "metadata": {},
   "outputs": [
    {
     "data": {
      "text/html": [
       "<div>\n",
       "<style scoped>\n",
       "    .dataframe tbody tr th:only-of-type {\n",
       "        vertical-align: middle;\n",
       "    }\n",
       "\n",
       "    .dataframe tbody tr th {\n",
       "        vertical-align: top;\n",
       "    }\n",
       "\n",
       "    .dataframe thead th {\n",
       "        text-align: right;\n",
       "    }\n",
       "</style>\n",
       "<table border=\"1\" class=\"dataframe\">\n",
       "  <thead>\n",
       "    <tr style=\"text-align: right;\">\n",
       "      <th>ESTUDO</th>\n",
       "      <th>Sem instrucao</th>\n",
       "      <th>Fund. Incomp ou equivalente</th>\n",
       "      <th>Fund. compl ou equivalente</th>\n",
       "      <th>Med Incomp ou equivalente</th>\n",
       "      <th>Med compl ou equilavente</th>\n",
       "      <th>Sup Incompl ou equivalente</th>\n",
       "      <th>Superior completo</th>\n",
       "      <th>nao determinado</th>\n",
       "    </tr>\n",
       "    <tr>\n",
       "      <th>REGIAO</th>\n",
       "      <th></th>\n",
       "      <th></th>\n",
       "      <th></th>\n",
       "      <th></th>\n",
       "      <th></th>\n",
       "      <th></th>\n",
       "      <th></th>\n",
       "      <th></th>\n",
       "    </tr>\n",
       "  </thead>\n",
       "  <tbody>\n",
       "    <tr>\n",
       "      <th>Centro-Oeste</th>\n",
       "      <td>36.267232</td>\n",
       "      <td>42.364793</td>\n",
       "      <td>5.567338</td>\n",
       "      <td>0.742312</td>\n",
       "      <td>7.847296</td>\n",
       "      <td>0.371156</td>\n",
       "      <td>6.839873</td>\n",
       "      <td>0.000000</td>\n",
       "    </tr>\n",
       "    <tr>\n",
       "      <th>Nordeste</th>\n",
       "      <td>48.155278</td>\n",
       "      <td>35.097850</td>\n",
       "      <td>4.363170</td>\n",
       "      <td>0.673725</td>\n",
       "      <td>7.362849</td>\n",
       "      <td>0.240616</td>\n",
       "      <td>4.042348</td>\n",
       "      <td>0.064164</td>\n",
       "    </tr>\n",
       "    <tr>\n",
       "      <th>Norte</th>\n",
       "      <td>41.998342</td>\n",
       "      <td>40.671642</td>\n",
       "      <td>5.721393</td>\n",
       "      <td>0.995025</td>\n",
       "      <td>8.043118</td>\n",
       "      <td>0.165837</td>\n",
       "      <td>2.404643</td>\n",
       "      <td>0.000000</td>\n",
       "    </tr>\n",
       "    <tr>\n",
       "      <th>Sudeste</th>\n",
       "      <td>24.256074</td>\n",
       "      <td>48.375648</td>\n",
       "      <td>7.821458</td>\n",
       "      <td>0.832651</td>\n",
       "      <td>10.169260</td>\n",
       "      <td>0.586951</td>\n",
       "      <td>7.944308</td>\n",
       "      <td>0.013650</td>\n",
       "    </tr>\n",
       "    <tr>\n",
       "      <th>Sul</th>\n",
       "      <td>22.485845</td>\n",
       "      <td>55.513616</td>\n",
       "      <td>6.066325</td>\n",
       "      <td>0.889728</td>\n",
       "      <td>7.198706</td>\n",
       "      <td>0.674036</td>\n",
       "      <td>7.117822</td>\n",
       "      <td>0.053923</td>\n",
       "    </tr>\n",
       "  </tbody>\n",
       "</table>\n",
       "</div>"
      ],
      "text/plain": [
       "ESTUDO        Sem instrucao  Fund. Incomp ou equivalente  \\\n",
       "REGIAO                                                     \n",
       "Centro-Oeste      36.267232                    42.364793   \n",
       "Nordeste          48.155278                    35.097850   \n",
       "Norte             41.998342                    40.671642   \n",
       "Sudeste           24.256074                    48.375648   \n",
       "Sul               22.485845                    55.513616   \n",
       "\n",
       "ESTUDO        Fund. compl ou equivalente  Med Incomp ou equivalente  \\\n",
       "REGIAO                                                                \n",
       "Centro-Oeste                    5.567338                   0.742312   \n",
       "Nordeste                        4.363170                   0.673725   \n",
       "Norte                           5.721393                   0.995025   \n",
       "Sudeste                         7.821458                   0.832651   \n",
       "Sul                             6.066325                   0.889728   \n",
       "\n",
       "ESTUDO        Med compl ou equilavente  Sup Incompl ou equivalente  \\\n",
       "REGIAO                                                               \n",
       "Centro-Oeste                  7.847296                    0.371156   \n",
       "Nordeste                      7.362849                    0.240616   \n",
       "Norte                         8.043118                    0.165837   \n",
       "Sudeste                      10.169260                    0.586951   \n",
       "Sul                           7.198706                    0.674036   \n",
       "\n",
       "ESTUDO        Superior completo  nao determinado  \n",
       "REGIAO                                            \n",
       "Centro-Oeste           6.839873         0.000000  \n",
       "Nordeste               4.042348         0.064164  \n",
       "Norte                  2.404643         0.000000  \n",
       "Sudeste                7.944308         0.013650  \n",
       "Sul                    7.117822         0.053923  "
      ]
     },
     "execution_count": 95,
     "metadata": {},
     "output_type": "execute_result"
    }
   ],
   "source": [
    "CT4 = pd.crosstab(P.REGIAO, P.ESTUDO, normalize = 'index')*100\n",
    "CT4"
   ]
  },
  {
   "cell_type": "code",
   "execution_count": 96,
   "metadata": {},
   "outputs": [
    {
     "name": "stderr",
     "output_type": "stream",
     "text": [
      "C:\\Users\\Gabriel Miras\\Documents\\INSPER\\Programas Insper\\AnacondaDownload\\lib\\site-packages\\matplotlib\\cbook\\deprecation.py:106: MatplotlibDeprecationWarning: Adding an axes using the same arguments as a previous axes currently reuses the earlier instance.  In a future version, a new instance will always be created and returned.  Meanwhile, this warning can be suppressed, and the future behavior ensured, by passing a unique label to each axes instance.\n",
      "  warnings.warn(message, mplDeprecation, stacklevel=1)\n"
     ]
    },
    {
     "data": {
      "text/plain": [
       "<matplotlib.legend.Legend at 0x24dbd212ba8>"
      ]
     },
     "execution_count": 96,
     "metadata": {},
     "output_type": "execute_result"
    },
    {
     "data": {
      "image/png": "[encoded data removed]",
      "text/plain": [
       "<matplotlib.figure.Figure at 0x24dbcc0ce10>"
      ]
     },
     "metadata": {},
     "output_type": "display_data"
    }
   ],
   "source": [
    "plot4 = CT4.T.plot(kind='bar',stacked=True, title='GRAU DE ESCOLARIDADE' ,figsize=(8,6))\n",
    "plt.ylabel('Freq.Relativa (em %)') #nao sei se é freq relativa\n",
    "\n",
    "ax = plt.subplot(111)\n",
    "box = ax.get_position()\n",
    "ax.set_position([box.x0, box.y0, box.width * 0.8, box.height])\n",
    "ax.legend(loc='center left', bbox_to_anchor=(1, 0.5))"
   ]
  },
  {
   "cell_type": "code",
   "execution_count": 97,
   "metadata": {},
   "outputs": [
    {
     "data": {
      "text/plain": [
       "Feminino     12376\n",
       "Masculino     9191\n",
       "Name: SEXO, dtype: int64"
      ]
     },
     "execution_count": 97,
     "metadata": {},
     "output_type": "execute_result"
    }
   ],
   "source": [
    "P.SEXO.value_counts()"
   ]
  },
  {
   "cell_type": "code",
   "execution_count": 98,
   "metadata": {},
   "outputs": [
    {
     "data": {
      "text/html": [
       "<div>\n",
       "<style scoped>\n",
       "    .dataframe tbody tr th:only-of-type {\n",
       "        vertical-align: middle;\n",
       "    }\n",
       "\n",
       "    .dataframe tbody tr th {\n",
       "        vertical-align: top;\n",
       "    }\n",
       "\n",
       "    .dataframe thead th {\n",
       "        text-align: right;\n",
       "    }\n",
       "</style>\n",
       "<table border=\"1\" class=\"dataframe\">\n",
       "  <thead>\n",
       "    <tr style=\"text-align: right;\">\n",
       "      <th>SEXO</th>\n",
       "      <th>Masculino</th>\n",
       "      <th>Feminino</th>\n",
       "    </tr>\n",
       "    <tr>\n",
       "      <th>REGIAO</th>\n",
       "      <th></th>\n",
       "      <th></th>\n",
       "    </tr>\n",
       "  </thead>\n",
       "  <tbody>\n",
       "    <tr>\n",
       "      <th>Centro-Oeste</th>\n",
       "      <td>45.811241</td>\n",
       "      <td>54.188759</td>\n",
       "    </tr>\n",
       "    <tr>\n",
       "      <th>Nordeste</th>\n",
       "      <td>42.171960</td>\n",
       "      <td>57.828040</td>\n",
       "    </tr>\n",
       "    <tr>\n",
       "      <th>Norte</th>\n",
       "      <td>47.761194</td>\n",
       "      <td>52.238806</td>\n",
       "    </tr>\n",
       "    <tr>\n",
       "      <th>Sudeste</th>\n",
       "      <td>40.950041</td>\n",
       "      <td>59.049959</td>\n",
       "    </tr>\n",
       "    <tr>\n",
       "      <th>Sul</th>\n",
       "      <td>41.682394</td>\n",
       "      <td>58.317606</td>\n",
       "    </tr>\n",
       "  </tbody>\n",
       "</table>\n",
       "</div>"
      ],
      "text/plain": [
       "SEXO          Masculino   Feminino\n",
       "REGIAO                            \n",
       "Centro-Oeste  45.811241  54.188759\n",
       "Nordeste      42.171960  57.828040\n",
       "Norte         47.761194  52.238806\n",
       "Sudeste       40.950041  59.049959\n",
       "Sul           41.682394  58.317606"
      ]
     },
     "execution_count": 98,
     "metadata": {},
     "output_type": "execute_result"
    }
   ],
   "source": [
    "CT5 = pd.crosstab(P.REGIAO, P.SEXO, normalize = 'index')*100\n",
    "CT5"
   ]
  },
  {
   "cell_type": "code",
   "execution_count": 99,
   "metadata": {},
   "outputs": [
    {
     "name": "stderr",
     "output_type": "stream",
     "text": [
      "C:\\Users\\Gabriel Miras\\Documents\\INSPER\\Programas Insper\\AnacondaDownload\\lib\\site-packages\\matplotlib\\cbook\\deprecation.py:106: MatplotlibDeprecationWarning: Adding an axes using the same arguments as a previous axes currently reuses the earlier instance.  In a future version, a new instance will always be created and returned.  Meanwhile, this warning can be suppressed, and the future behavior ensured, by passing a unique label to each axes instance.\n",
      "  warnings.warn(message, mplDeprecation, stacklevel=1)\n"
     ]
    },
    {
     "data": {
      "text/plain": [
       "<matplotlib.legend.Legend at 0x24dbcc0c710>"
      ]
     },
     "execution_count": 99,
     "metadata": {},
     "output_type": "execute_result"
    },
    {
     "data": {
      "image/png": "[encoded data removed]",
      "text/plain": [
       "<matplotlib.figure.Figure at 0x24dbd6e2e80>"
      ]
     },
     "metadata": {},
     "output_type": "display_data"
    }
   ],
   "source": [
    "plot5 = CT5.T.plot(kind='bar',stacked=True, title='SEXO' ,figsize=(8,6))\n",
    "plt.ylabel('Freq.Relativa (em %)') #nao sei se é freq relativa\n",
    "\n",
    "ax = plt.subplot(111)\n",
    "box = ax.get_position()\n",
    "ax.set_position([box.x0, box.y0, box.width * 0.8, box.height])\n",
    "ax.legend(loc='center left', bbox_to_anchor=(1, 0.5))"
   ]
  },
  {
   "cell_type": "code",
   "execution_count": 100,
   "metadata": {
    "scrolled": true
   },
   "outputs": [
    {
     "data": {
      "text/html": [
       "<div>\n",
       "<style scoped>\n",
       "    .dataframe tbody tr th:only-of-type {\n",
       "        vertical-align: middle;\n",
       "    }\n",
       "\n",
       "    .dataframe tbody tr th {\n",
       "        vertical-align: top;\n",
       "    }\n",
       "\n",
       "    .dataframe thead th {\n",
       "        text-align: right;\n",
       "    }\n",
       "</style>\n",
       "<table border=\"1\" class=\"dataframe\">\n",
       "  <thead>\n",
       "    <tr style=\"text-align: right;\">\n",
       "      <th>CONDICAO</th>\n",
       "      <th>Pessoa de referencia</th>\n",
       "      <th>Conjuge</th>\n",
       "      <th>Filho</th>\n",
       "      <th>Outro</th>\n",
       "      <th>Agregado</th>\n",
       "      <th>Pensionista</th>\n",
       "      <th>Empregado domestico</th>\n",
       "      <th>Parente do empregado domestico</th>\n",
       "    </tr>\n",
       "    <tr>\n",
       "      <th>SALARIO</th>\n",
       "      <th></th>\n",
       "      <th></th>\n",
       "      <th></th>\n",
       "      <th></th>\n",
       "      <th></th>\n",
       "      <th></th>\n",
       "      <th></th>\n",
       "      <th></th>\n",
       "    </tr>\n",
       "  </thead>\n",
       "  <tbody>\n",
       "    <tr>\n",
       "      <th>Sem rendimento</th>\n",
       "      <td>85.714286</td>\n",
       "      <td>9.523810</td>\n",
       "      <td>0.000000</td>\n",
       "      <td>4.761905</td>\n",
       "      <td>0.000000</td>\n",
       "      <td>0.0</td>\n",
       "      <td>0.0</td>\n",
       "      <td>0.0</td>\n",
       "    </tr>\n",
       "    <tr>\n",
       "      <th>Ate 1/4 de salario</th>\n",
       "      <td>62.359551</td>\n",
       "      <td>10.112360</td>\n",
       "      <td>0.000000</td>\n",
       "      <td>26.404494</td>\n",
       "      <td>1.123596</td>\n",
       "      <td>0.0</td>\n",
       "      <td>0.0</td>\n",
       "      <td>0.0</td>\n",
       "    </tr>\n",
       "    <tr>\n",
       "      <th>mais de 1/4 ate 1/2 de salario</th>\n",
       "      <td>63.561191</td>\n",
       "      <td>17.805954</td>\n",
       "      <td>0.055127</td>\n",
       "      <td>18.246968</td>\n",
       "      <td>0.330761</td>\n",
       "      <td>0.0</td>\n",
       "      <td>0.0</td>\n",
       "      <td>0.0</td>\n",
       "    </tr>\n",
       "    <tr>\n",
       "      <th>mais de 1/2 ate 1 de salario</th>\n",
       "      <td>66.275590</td>\n",
       "      <td>21.477314</td>\n",
       "      <td>0.107746</td>\n",
       "      <td>11.696397</td>\n",
       "      <td>0.442955</td>\n",
       "      <td>0.0</td>\n",
       "      <td>0.0</td>\n",
       "      <td>0.0</td>\n",
       "    </tr>\n",
       "    <tr>\n",
       "      <th>mais de 1 ate 2 de salario</th>\n",
       "      <td>64.425598</td>\n",
       "      <td>18.920586</td>\n",
       "      <td>0.107941</td>\n",
       "      <td>15.990748</td>\n",
       "      <td>0.555127</td>\n",
       "      <td>0.0</td>\n",
       "      <td>0.0</td>\n",
       "      <td>0.0</td>\n",
       "    </tr>\n",
       "    <tr>\n",
       "      <th>mais de 2 ate 3 de salario</th>\n",
       "      <td>63.507378</td>\n",
       "      <td>17.650397</td>\n",
       "      <td>0.170261</td>\n",
       "      <td>18.274688</td>\n",
       "      <td>0.397276</td>\n",
       "      <td>0.0</td>\n",
       "      <td>0.0</td>\n",
       "      <td>0.0</td>\n",
       "    </tr>\n",
       "    <tr>\n",
       "      <th>mais de 3 ate 5 de salario</th>\n",
       "      <td>64.169884</td>\n",
       "      <td>17.760618</td>\n",
       "      <td>0.154440</td>\n",
       "      <td>17.297297</td>\n",
       "      <td>0.617761</td>\n",
       "      <td>0.0</td>\n",
       "      <td>0.0</td>\n",
       "      <td>0.0</td>\n",
       "    </tr>\n",
       "    <tr>\n",
       "      <th>mais de 5 de salario</th>\n",
       "      <td>69.419238</td>\n",
       "      <td>18.511797</td>\n",
       "      <td>0.000000</td>\n",
       "      <td>11.705989</td>\n",
       "      <td>0.362976</td>\n",
       "      <td>0.0</td>\n",
       "      <td>0.0</td>\n",
       "      <td>0.0</td>\n",
       "    </tr>\n",
       "    <tr>\n",
       "      <th>sem declaracao</th>\n",
       "      <td>62.643678</td>\n",
       "      <td>20.306513</td>\n",
       "      <td>0.000000</td>\n",
       "      <td>16.283525</td>\n",
       "      <td>0.766284</td>\n",
       "      <td>0.0</td>\n",
       "      <td>0.0</td>\n",
       "      <td>0.0</td>\n",
       "    </tr>\n",
       "  </tbody>\n",
       "</table>\n",
       "</div>"
      ],
      "text/plain": [
       "CONDICAO                        Pessoa de referencia    Conjuge     Filho  \\\n",
       "SALARIO                                                                     \n",
       "Sem rendimento                             85.714286   9.523810  0.000000   \n",
       "Ate 1/4 de salario                         62.359551  10.112360  0.000000   \n",
       "mais de 1/4 ate 1/2 de salario             63.561191  17.805954  0.055127   \n",
       "mais de 1/2 ate 1 de salario               66.275590  21.477314  0.107746   \n",
       "mais de 1 ate 2 de salario                 64.425598  18.920586  0.107941   \n",
       "mais de 2 ate 3 de salario                 63.507378  17.650397  0.170261   \n",
       "mais de 3 ate 5 de salario                 64.169884  17.760618  0.154440   \n",
       "mais de 5 de salario                       69.419238  18.511797  0.000000   \n",
       "sem declaracao                             62.643678  20.306513  0.000000   \n",
       "\n",
       "CONDICAO                            Outro  Agregado  Pensionista  \\\n",
       "SALARIO                                                            \n",
       "Sem rendimento                   4.761905  0.000000          0.0   \n",
       "Ate 1/4 de salario              26.404494  1.123596          0.0   \n",
       "mais de 1/4 ate 1/2 de salario  18.246968  0.330761          0.0   \n",
       "mais de 1/2 ate 1 de salario    11.696397  0.442955          0.0   \n",
       "mais de 1 ate 2 de salario      15.990748  0.555127          0.0   \n",
       "mais de 2 ate 3 de salario      18.274688  0.397276          0.0   \n",
       "mais de 3 ate 5 de salario      17.297297  0.617761          0.0   \n",
       "mais de 5 de salario            11.705989  0.362976          0.0   \n",
       "sem declaracao                  16.283525  0.766284          0.0   \n",
       "\n",
       "CONDICAO                        Empregado domestico  \\\n",
       "SALARIO                                               \n",
       "Sem rendimento                                  0.0   \n",
       "Ate 1/4 de salario                              0.0   \n",
       "mais de 1/4 ate 1/2 de salario                  0.0   \n",
       "mais de 1/2 ate 1 de salario                    0.0   \n",
       "mais de 1 ate 2 de salario                      0.0   \n",
       "mais de 2 ate 3 de salario                      0.0   \n",
       "mais de 3 ate 5 de salario                      0.0   \n",
       "mais de 5 de salario                            0.0   \n",
       "sem declaracao                                  0.0   \n",
       "\n",
       "CONDICAO                        Parente do empregado domestico  \n",
       "SALARIO                                                         \n",
       "Sem rendimento                                             0.0  \n",
       "Ate 1/4 de salario                                         0.0  \n",
       "mais de 1/4 ate 1/2 de salario                             0.0  \n",
       "mais de 1/2 ate 1 de salario                               0.0  \n",
       "mais de 1 ate 2 de salario                                 0.0  \n",
       "mais de 2 ate 3 de salario                                 0.0  \n",
       "mais de 3 ate 5 de salario                                 0.0  \n",
       "mais de 5 de salario                                       0.0  \n",
       "sem declaracao                                             0.0  "
      ]
     },
     "execution_count": 100,
     "metadata": {},
     "output_type": "execute_result"
    }
   ],
   "source": [
    "CTv = pd.crosstab(P.SALARIO, P.CONDICAO, normalize = 'index')*100\n",
    "CTv"
   ]
  },
  {
   "cell_type": "code",
   "execution_count": 101,
   "metadata": {
    "scrolled": true
   },
   "outputs": [
    {
     "data": {
      "text/plain": [
       "<matplotlib.axes._subplots.AxesSubplot at 0x24db6464128>"
      ]
     },
     "execution_count": 101,
     "metadata": {},
     "output_type": "execute_result"
    },
    {
     "data": {
      "image/png": "[encoded data removed]",
      "text/plain": [
       "<matplotlib.figure.Figure at 0x24dbcc95630>"
      ]
     },
     "metadata": {},
     "output_type": "display_data"
    }
   ],
   "source": [
    "CTv.boxplot(column=['Pessoa de referencia'])"
   ]
  },
  {
   "cell_type": "code",
   "execution_count": 102,
   "metadata": {},
   "outputs": [
    {
     "name": "stderr",
     "output_type": "stream",
     "text": [
      "C:\\Users\\Gabriel Miras\\Documents\\INSPER\\Programas Insper\\AnacondaDownload\\lib\\site-packages\\matplotlib\\cbook\\deprecation.py:106: MatplotlibDeprecationWarning: Adding an axes using the same arguments as a previous axes currently reuses the earlier instance.  In a future version, a new instance will always be created and returned.  Meanwhile, this warning can be suppressed, and the future behavior ensured, by passing a unique label to each axes instance.\n",
      "  warnings.warn(message, mplDeprecation, stacklevel=1)\n"
     ]
    },
    {
     "data": {
      "text/plain": [
       "<matplotlib.legend.Legend at 0x24dbd6c58d0>"
      ]
     },
     "execution_count": 102,
     "metadata": {},
     "output_type": "execute_result"
    },
    {
     "data": {
      "image/png": "[encoded data removed]",
      "text/plain": [
       "<matplotlib.figure.Figure at 0x24dc5f6cd30>"
      ]
     },
     "metadata": {},
     "output_type": "display_data"
    }
   ],
   "source": [
    "plot = CTv.plot(kind='bar', stacked=True,title='Default por Educação')\n",
    "plt.ylabel('Freq.Relativa (em%)')\n",
    "\n",
    "ax = plt.subplot(111)\n",
    "box = ax.get_position()\n",
    "ax.set_position([box.x0, box.y0, box.width * 0.8, box.height])\n",
    "ax.legend(loc='center left', bbox_to_anchor=(1, 0.5))"
   ]
  },
  {
   "cell_type": "markdown",
   "metadata": {},
   "source": [
    "___\n",
    "## Conclusão "
   ]
  },
  {
   "cell_type": "markdown",
   "metadata": {
    "collapsed": true
   },
   "source": [
    "Descreva aqui suas conclusões!"
   ]
  }
 ],
 "metadata": {
  "anaconda-cloud": {},
  "kernelspec": {
   "display_name": "Python 3",
   "language": "python",
   "name": "python3"
  },
  "language_info": {
   "codemirror_mode": {
    "name": "ipython",
    "version": 3
   },
   "file_extension": ".py",
   "mimetype": "text/x-python",
   "name": "python",
   "nbconvert_exporter": "python",
   "pygments_lexer": "ipython3",
   "version": "3.6.4"
  }
 },
 "nbformat": 4,
 "nbformat_minor": 1
}
